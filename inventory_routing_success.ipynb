{
 "cells": [
  {
   "cell_type": "raw",
   "metadata": {
    "colab_type": "raw",
    "extensions": {
     "jupyter_dashboards": {
      "version": 1,
      "views": {
       "grid_default": {
        "hidden": true
       },
       "report_default": {
        "hidden": false
       }
      }
     }
    },
    "id": "61Cgmyz6pMIA"
   },
   "source": [
    "                             \n",
    " x={t_0: Variable((3, 3), boolean=True),\n",
    "    t_1: Variable((3, 3), boolean=True),\n",
    "    t_2: Variable((3, 3), boolean=True)}          \n",
    "\n",
    "     i,i,i  \n",
    " j  [ , , ] \n",
    " j  [ , , ] \n",
    " j  [ , , ] \n",
    " \n",
    "     t,t,t  \n",
    " i  [ , , ] \n",
    " i  [ , , ] \n",
    " i  [ , , ] "
   ]
  },
  {
   "cell_type": "code",
   "execution_count": 1,
   "metadata": {
    "colab": {},
    "colab_type": "code",
    "collapsed": true,
    "extensions": {
     "jupyter_dashboards": {
      "version": 1,
      "views": {
       "grid_default": {
        "hidden": true
       },
       "report_default": {
        "hidden": true
       }
      }
     }
    },
    "id": "pDLLRcojpMID"
   },
   "outputs": [],
   "source": [
    "import numpy as np\n",
    "import cvxpy as cp\n",
    "import matplotlib.pyplot as plt"
   ]
  },
  {
   "cell_type": "markdown",
   "metadata": {
    "colab_type": "text",
    "extensions": {
     "jupyter_dashboards": {
      "version": 1,
      "views": {
       "grid_default": {
        "col": 0,
        "height": 4,
        "hidden": false,
        "row": 0,
        "width": 4
       },
       "report_default": {
        "hidden": false
       }
      }
     }
    },
    "id": "OwJG8dDdpMIL"
   },
   "source": [
    "# Variables "
   ]
  },
  {
   "cell_type": "code",
   "execution_count": 2,
   "metadata": {
    "colab": {},
    "colab_type": "code",
    "collapsed": true,
    "extensions": {
     "jupyter_dashboards": {
      "version": 1,
      "views": {
       "grid_default": {
        "hidden": true
       },
       "report_default": {
        "hidden": true
       }
      }
     }
    },
    "id": "LtkWo_OSpMIM"
   },
   "outputs": [],
   "source": [
    "#x visting order bool\n",
    "n=3\n",
    "x={}\n",
    "v={}\n",
    "T=3\n",
    "for t in range(T):\n",
    "    x[t]=cp.Variable((n+2,n+2),boolean=True)\n",
    "    \n",
    "#dellivered qty = d(i_th hospital ,t_th period -->  )\n",
    "d=cp.Variable((n,T),integer=True)  \n",
    "\n",
    "#invetory = I(i_th hospital ,t_th period -->  )\n",
    "I=cp.Variable((n,T+1),integer=True) \n",
    "\n",
    "\n",
    "#i=0 center , i[1,n] hospitals\n",
    "# y visited to i_th hospital or not =y(i_th hospital,t_th period --> )\n",
    "y=cp.Variable((n+2,T),boolean=True)\n",
    "\n",
    "#auxilary variable for sub tours \n",
    "v=cp.Variable((n+2,T),integer=True)\n",
    "\n",
    "# l leaved from i_th hospital or not =l(i_th hospital,t_th period --> )\n",
    "l=cp.Variable((n+2,T),boolean=True)\n"
   ]
  },
  {
   "cell_type": "markdown",
   "metadata": {
    "colab_type": "text",
    "extensions": {
     "jupyter_dashboards": {
      "version": 1,
      "views": {
       "grid_default": {
        "hidden": true
       },
       "report_default": {
        "hidden": false
       }
      }
     }
    },
    "id": "ZqpAvyO9pMIS"
   },
   "source": [
    "# Data / Parameters   "
   ]
  },
  {
   "cell_type": "code",
   "execution_count": 3,
   "metadata": {
    "colab": {},
    "colab_type": "code",
    "collapsed": true,
    "extensions": {
     "jupyter_dashboards": {
      "version": 1,
      "views": {
       "grid_default": {
        "col": 4,
        "height": 4,
        "hidden": false,
        "row": 0,
        "width": 4
       },
       "report_default": {
        "hidden": true
       }
      }
     }
    },
    "id": "vl2y8k7rpMIT"
   },
   "outputs": [],
   "source": [
    "# usage = U(i_th hospital ,t_th period -->  )\n",
    "u=np.array([[24,23,23],\n",
    "            [39,37,36],\n",
    "            [21,20,19]])\n",
    "\n",
    "# distance mtx = dm(j_th hospital , i_th hospital ) \n",
    "m=20\n",
    "dm=np.array([[m,1.71,7.62,3.53,m],\n",
    "             [1.71,m,6.32,1.94,1.71],\n",
    "             [7.62,6.32,m,6.16,7.62],\n",
    "             [3.53,1.94,6.16,m,3.53],\n",
    "             [m,1.71,7.62,3.53,m]])\n",
    "\n",
    "# intial inventory hospitla blood bank =ini( i_th hospital )\n",
    "inn=np.array([9,15,8])\n",
    "\n",
    "# capacity constraints\n",
    "C=np.array([67, 64, 60])\n"
   ]
  },
  {
   "cell_type": "markdown",
   "metadata": {
    "colab_type": "text",
    "extensions": {
     "jupyter_dashboards": {
      "version": 1,
      "views": {
       "grid_default": {
        "col": 0,
        "height": 4,
        "hidden": false,
        "row": 4,
        "width": 4
       },
       "report_default": {
        "hidden": false
       }
      }
     }
    },
    "id": "oznciet2pMIZ"
   },
   "source": [
    "# constraints"
   ]
  },
  {
   "cell_type": "code",
   "execution_count": 4,
   "metadata": {
    "colab": {},
    "colab_type": "code",
    "collapsed": true,
    "extensions": {
     "jupyter_dashboards": {
      "version": 1,
      "views": {
       "grid_default": {
        "hidden": true
       },
       "report_default": {
        "hidden": true
       }
      }
     }
    },
    "id": "hO5yfPIjpMIb"
   },
   "outputs": [],
   "source": [
    "constraints=[]\n",
    "\n",
    "# visited or not to the blood bank \n",
    "for t in range(T):\n",
    "    for a in range(n+2):\n",
    "        constraints.append(y[a,t]==cp.sum(x[t][:,a]))\n",
    "\n",
    "        \n",
    "# if a bb is visited then such bb need to leave \n",
    "for t in range(T):\n",
    "    for a in range(1,4):\n",
    "        constraints.append(cp.sum(x[t][a,:])==cp.sum(x[t][:,a]))\n",
    "        \n",
    "#eliminate visitig  same hospital twice\n",
    "for t in range(T):\n",
    "    for a in range(n+2):\n",
    "        constraints.append(cp.sum(x[t][a,:])<=1)\n",
    "        constraints.append(cp.sum(x[t][:,a])<=1)\n",
    "        \n",
    "# invetory balance  inv(t+1_th period)=inv(t_th period)+d(t_th period)-u(t_th period)\n",
    "for i in range(n):\n",
    "    for j in range(n):\n",
    "        constraints.append(I[j,i+1] == I[j,i]+d[j,i]-u[j,i])\n",
    "        \n",
    "# ensure vehicel leave and visit blood center  every day\n",
    "for t in range(T):\n",
    "        constraints.append(cp.sum(x[t][0,:])==1) #leave from central bb\n",
    "        constraints.append(cp.sum(x[t][:,-1])==1) #arrival to central bb\n",
    "        constraints.append(cp.sum(x[t][-1,:])==0) # ensure vehicel does not leave from central bb\n",
    "#for t in range(n):\n",
    "#    constraints.append(y[0,t]==1)\n",
    "#for t in range(n):\n",
    "#    constraints.append(y[-1,t]==1)    \n",
    "\n",
    "##ensure vehicle leave from NBC\n",
    "#for i in range(n):\n",
    "#    for a in range(n):\n",
    "#        constraints.append(cp.sum(x[i][0,:])==1)\n",
    "\n",
    "#ensure deliver only if visited and postive \n",
    "for i in range(n):\n",
    "    for t in range(T):\n",
    "        constraints.append(d[i,t]<=C[t]*y[i+1,t])\n",
    "for i in range(n):\n",
    "    for t  in range(T):\n",
    "        constraints.append(d[i,t]>=0)\n",
    "        \n",
    "\n",
    "# intial inventory >= last inventory\n",
    "constraints.append(I[:,-1]>=inn)\n",
    "\n",
    "#intial inventory is given\n",
    "constraints.append(I[:,0]==inn)\n",
    "\n",
    "#storage capacity  cosntraint\n",
    "for i in range(n):\n",
    "    for t in range(T):\n",
    "        constraints.append(I[i,t]<=C[i])\n",
    "\n",
    "#inventory is positive\n",
    "for i in range(n):\n",
    "    for j in range(n):\n",
    "        constraints.append(I[i,j]>=1)\n",
    "\n",
    "#sub tour elimination  \n",
    "for t in range(T):\n",
    "    for i in range(1,n+2):\n",
    "        for j in range(1,n+2):\n",
    "            if i != j:\n",
    "                constraints.append(v[i,t] - v[j,t] + 5*x[t][i,j] <= 4)\n",
    "#  v=>0 and v<=n-1\n",
    "for t in range(T):\n",
    "    for i in range(n+2):\n",
    "        constraints.append(v[i,t]>=0)\n",
    "for t in range(T):\n",
    "    for i in range(n+2):\n",
    "        constraints.append(v[i,t]<=4)"
   ]
  },
  {
   "cell_type": "markdown",
   "metadata": {
    "colab_type": "text",
    "extensions": {
     "jupyter_dashboards": {
      "version": 1,
      "views": {
       "grid_default": {
        "col": 8,
        "height": 4,
        "hidden": false,
        "row": 0,
        "width": 4
       },
       "report_default": {
        "hidden": false
       }
      }
     }
    },
    "id": "b18F5U-xpMIg"
   },
   "source": [
    "# Objective Fn"
   ]
  },
  {
   "cell_type": "code",
   "execution_count": 5,
   "metadata": {
    "colab": {},
    "colab_type": "code",
    "collapsed": true,
    "extensions": {
     "jupyter_dashboards": {
      "version": 1,
      "views": {
       "grid_default": {
        "hidden": true
       },
       "report_default": {
        "hidden": true
       }
      }
     }
    },
    "id": "Bv73MABIpMIh"
   },
   "outputs": [],
   "source": [
    "total_cost=0\n",
    "for i in range(3):\n",
    "    total_cost+=cp.sum(cp.multiply(dm,x[i]))\n",
    "\n",
    "obj=cp.Minimize(cp.sum(total_cost))"
   ]
  },
  {
   "cell_type": "markdown",
   "metadata": {},
   "source": [
    "# Solve with GLPK_MI"
   ]
  },
  {
   "cell_type": "code",
   "execution_count": 6,
   "metadata": {
    "colab": {
     "base_uri": "https://localhost:8080/",
     "height": 51
    },
    "colab_type": "code",
    "extensions": {
     "jupyter_dashboards": {
      "version": 1,
      "views": {
       "grid_default": {
        "hidden": true
       },
       "report_default": {
        "hidden": false
       }
      }
     }
    },
    "id": "ux879SmrpMIm",
    "outputId": "1d4fb973-be22-49d3-ea2f-5d9803b0d9bf"
   },
   "outputs": [
    {
     "name": "stdout",
     "output_type": "stream",
     "text": [
      "Wall time: 0 ns\n"
     ]
    }
   ],
   "source": [
    "Prb=cp.Problem(obj,constraints)\n",
    "#ECOS_BB, GLPK_MI\n",
    "%time\n",
    "Sol=Prb.solve(solver=cp.GLPK_MI,verbose=True)"
   ]
  },
  {
   "cell_type": "code",
   "execution_count": null,
   "metadata": {
    "colab": {
     "base_uri": "https://localhost:8080/",
     "height": 34
    },
    "colab_type": "code",
    "collapsed": true,
    "extensions": {
     "jupyter_dashboards": {
      "version": 1,
      "views": {
       "grid_default": {
        "hidden": true
       },
       "report_default": {
        "hidden": false
       }
      }
     }
    },
    "id": "F3spB5WfpMIz",
    "outputId": "69539f0f-3383-45c0-b58e-7060500e8918"
   },
   "outputs": [],
   "source": []
  },
  {
   "cell_type": "code",
   "execution_count": 7,
   "metadata": {
    "collapsed": true
   },
   "outputs": [],
   "source": [
    "def Sol_path(x):\n",
    " for i in range(len(x)):\n",
    "    Nonzero=np.nonzero(x[i].value)\n",
    "    visiting_order=set(np.concatenate((Nonzero[0],Nonzero[1])))\n",
    "    final=list(str(i) for i in visiting_order)\n",
    "    print(\"in {}.th time period\".format(int(i)),\"->\".join(final))\n",
    "    "
   ]
  },
  {
   "cell_type": "code",
   "execution_count": 8,
   "metadata": {
    "colab": {
     "base_uri": "https://localhost:8080/",
     "height": 272
    },
    "colab_type": "code",
    "extensions": {
     "jupyter_dashboards": {
      "version": 1,
      "views": {
       "grid_default": {
        "hidden": true
       },
       "report_default": {
        "hidden": false
       }
      }
     }
    },
    "id": "GReP9l_CpMI7",
    "outputId": "17f5dbc7-b4a5-4768-e830-11beb1503a3c",
    "scrolled": false
   },
   "outputs": [
    {
     "name": "stdout",
     "output_type": "stream",
     "text": [
      "cost : 36.09.\n",
      "in 0.th time period 0->1->2->3->4\n",
      "in 1.th time period 0->1->4\n",
      "in 2.th time period 0->2->4\n"
     ]
    }
   ],
   "source": [
    "print('cost : {}.'.format(Prb.value))\n",
    "Sol_path(x)"
   ]
  },
  {
   "cell_type": "code",
   "execution_count": 9,
   "metadata": {
    "colab": {
     "base_uri": "https://localhost:8080/",
     "height": 34
    },
    "colab_type": "code",
    "extensions": {
     "jupyter_dashboards": {
      "version": 1,
      "views": {
       "grid_default": {
        "col": 4,
        "height": 4,
        "hidden": false,
        "row": 4,
        "width": 4
       },
       "report_default": {
        "hidden": false
       }
      }
     }
    },
    "id": "Yqdk7YpUpMJB",
    "outputId": "ea4be96d-53b1-4335-e4b7-173a4114aaf8"
   },
   "outputs": [
    {
     "name": "stdout",
     "output_type": "stream",
     "text": [
      "invetroy is balanced\n"
     ]
    }
   ],
   "source": [
    "final_invet=I.value[:,:3]+d.value-u\n",
    "if np.all(np.equal(I.value[:,1:],final_invet)):\n",
    "    print('invetroy is balanced')"
   ]
  },
  {
   "cell_type": "code",
   "execution_count": 10,
   "metadata": {
    "colab": {
     "base_uri": "https://localhost:8080/",
     "height": 68
    },
    "colab_type": "code",
    "collapsed": true,
    "extensions": {
     "jupyter_dashboards": {
      "version": 1,
      "views": {
       "grid_default": {
        "hidden": true
       },
       "report_default": {
        "hidden": false
       }
      }
     }
    },
    "id": "qEhvptkNpMJK",
    "outputId": "bff8f635-d3f4-4bce-8e6c-ad29533ee3db",
    "scrolled": true
   },
   "outputs": [],
   "source": [
    "I_GLPK_MI=I.value\n"
   ]
  },
  {
   "cell_type": "markdown",
   "metadata": {},
   "source": [
    "# Solve with CPLEX"
   ]
  },
  {
   "cell_type": "code",
   "execution_count": 11,
   "metadata": {
    "colab": {},
    "colab_type": "code",
    "extensions": {
     "jupyter_dashboards": {
      "version": 1,
      "views": {
       "grid_default": {
        "col": 4,
        "height": 4,
        "hidden": false,
        "row": 8,
        "width": 4
       },
       "report_default": {
        "hidden": false
       }
      }
     }
    },
    "id": "Dwm91MP9pMJz"
   },
   "outputs": [
    {
     "name": "stdout",
     "output_type": "stream",
     "text": [
      "CPXPARAM_Read_DataCheck                          1\n"
     ]
    },
    {
     "name": "stderr",
     "output_type": "stream",
     "text": [
      "Warning:  Non-integral bounds for integer variables rounded.\n"
     ]
    },
    {
     "name": "stdout",
     "output_type": "stream",
     "text": [
      "Tried aggregator 2 times.\n",
      "MIP Presolve eliminated 102 rows and 27 columns.\n",
      "MIP Presolve modified 18 coefficients.\n",
      "Aggregator did 3 substitutions.\n",
      "Reduced MIP has 75 rows, 93 columns, and 294 nonzeros.\n",
      "Reduced MIP has 69 binaries, 24 generals, 0 SOSs, and 0 indicators.\n",
      "Presolve time = 0.03 sec. (0.30 ticks)\n",
      "Found incumbent of value 133.900000 after 0.13 sec. (0.58 ticks)\n",
      "Probing changed sense of 3 constraints.\n",
      "Probing time = 0.00 sec. (0.08 ticks)\n",
      "Tried aggregator 1 time.\n",
      "MIP Presolve eliminated 21 rows and 24 columns.\n",
      "Reduced MIP has 54 rows, 69 columns, and 208 nonzeros.\n",
      "Reduced MIP has 48 binaries, 21 generals, 0 SOSs, and 0 indicators.\n",
      "Presolve time = 0.00 sec. (0.12 ticks)\n",
      "Probing time = 0.00 sec. (0.06 ticks)\n",
      "Tried aggregator 1 time.\n",
      "Reduced MIP has 54 rows, 69 columns, and 208 nonzeros.\n",
      "Reduced MIP has 48 binaries, 21 generals, 0 SOSs, and 0 indicators.\n",
      "Presolve time = 0.00 sec. (0.14 ticks)\n",
      "Probing time = 0.00 sec. (0.06 ticks)\n",
      "Clique table members: 50.\n",
      "MIP emphasis: balance optimality and feasibility.\n",
      "MIP search method: dynamic search.\n",
      "Parallel mode: deterministic, using up to 4 threads.\n",
      "Root relaxation solution time = 0.00 sec. (0.13 ticks)\n",
      "\n",
      "        Nodes                                         Cuts/\n",
      "   Node  Left     Objective  IInf  Best Integer    Best Bound    ItCnt     Gap\n",
      "\n",
      "*     0+    0                           76.0900       17.4300            77.09%\n",
      "      0     0       32.5809     6       76.0900       32.5809       13   57.18%\n",
      "*     0+    0                           36.0900       32.5809             9.72%\n",
      "      0     0        cutoff             36.0900                     16    0.00%\n",
      "Elapsed time = 0.22 sec. (4.01 ticks, tree = 0.01 MB, solutions = 3)\n",
      "\n",
      "Clique cuts applied:  1\n",
      "Implied bound cuts applied:  1\n",
      "Lift and project cuts applied:  1\n",
      "Gomory fractional cuts applied:  1\n",
      "\n",
      "Root node processing (before b&c):\n",
      "  Real time             =    0.23 sec. (4.01 ticks)\n",
      "Parallel b&c, 4 threads:\n",
      "  Real time             =    0.00 sec. (0.00 ticks)\n",
      "  Sync time (average)   =    0.00 sec.\n",
      "  Wait time (average)   =    0.00 sec.\n",
      "                          ------------\n",
      "Total (root+branch&cut) =    0.23 sec. (4.01 ticks)\n"
     ]
    },
    {
     "name": "stderr",
     "output_type": "stream",
     "text": [
      "CPLEX Error  1217: No solution exists.\n"
     ]
    },
    {
     "data": {
      "text/plain": [
       "36.09"
      ]
     },
     "execution_count": 11,
     "metadata": {},
     "output_type": "execute_result"
    }
   ],
   "source": [
    "Prb.solve(solver=cp.CPLEX,verbose=True)"
   ]
  },
  {
   "cell_type": "code",
   "execution_count": 12,
   "metadata": {
    "colab": {},
    "colab_type": "code",
    "extensions": {
     "jupyter_dashboards": {
      "version": 1,
      "views": {
       "grid_default": {
        "col": 8,
        "height": 12,
        "hidden": false,
        "row": 8,
        "width": 4
       },
       "report_default": {
        "hidden": false
       }
      }
     }
    },
    "id": "9ARHiLnupMJ5"
   },
   "outputs": [
    {
     "name": "stdout",
     "output_type": "stream",
     "text": [
      "cost : 36.09.\n",
      "in 0.th time period 0->1->2->3->4\n",
      "in 1.th time period 0->2->4\n",
      "in 2.th time period 0->1->4\n"
     ]
    }
   ],
   "source": [
    "print('cost : {}.'.format(Prb.value))\n",
    "Sol_path(x)"
   ]
  },
  {
   "cell_type": "code",
   "execution_count": 13,
   "metadata": {
    "colab": {
     "base_uri": "https://localhost:8080/",
     "height": 34
    },
    "colab_type": "code",
    "collapsed": true,
    "extensions": {
     "jupyter_dashboards": {
      "version": 1,
      "views": {
       "grid_default": {
        "col": 0,
        "height": 4,
        "hidden": false,
        "row": 12,
        "width": 4
       },
       "report_default": {
        "hidden": false
       }
      }
     }
    },
    "id": "UaKYn-tLpMTY",
    "outputId": "0edd8872-0e55-496c-d1cb-587f753267b2"
   },
   "outputs": [],
   "source": [
    "I_CPLEX=I.value"
   ]
  },
  {
   "cell_type": "code",
   "execution_count": 14,
   "metadata": {
    "colab": {
     "base_uri": "https://localhost:8080/",
     "height": 68
    },
    "colab_type": "code",
    "extensions": {
     "jupyter_dashboards": {
      "version": 1,
      "views": {
       "grid_default": {
        "col": 4,
        "height": 4,
        "hidden": false,
        "row": 12,
        "width": 4
       },
       "report_default": {
        "hidden": false
       }
      }
     }
    },
    "id": "piFVLHQipMTe",
    "outputId": "b101119c-1607-4a38-8d3d-a1114437a5bc"
   },
   "outputs": [
    {
     "data": {
      "text/plain": [
       "array([[ 9., 15.,  8.],\n",
       "       [24., 43., 47.],\n",
       "       [ 1., 51., 27.],\n",
       "       [38., 15.,  8.]])"
      ]
     },
     "execution_count": 14,
     "metadata": {},
     "output_type": "execute_result"
    }
   ],
   "source": [
    "I_CPLEX.T"
   ]
  },
  {
   "cell_type": "code",
   "execution_count": 15,
   "metadata": {
    "colab": {
     "base_uri": "https://localhost:8080/",
     "height": 68
    },
    "colab_type": "code",
    "extensions": {
     "jupyter_dashboards": {
      "version": 1,
      "views": {
       "grid_default": {
        "hidden": true
       },
       "report_default": {
        "hidden": false
       }
      }
     }
    },
    "id": "OY0BxC2ipMTq",
    "outputId": "fdde6b22-3371-47fc-9743-1f27f61dbb51"
   },
   "outputs": [
    {
     "data": {
      "text/plain": [
       "array([[ 9.,  1., 32.,  9.],\n",
       "       [15., 43.,  6., 30.],\n",
       "       [ 8., 47., 27.,  8.]])"
      ]
     },
     "execution_count": 15,
     "metadata": {},
     "output_type": "execute_result"
    }
   ],
   "source": [
    "I_GLPK_MI"
   ]
  },
  {
   "cell_type": "code",
   "execution_count": 16,
   "metadata": {
    "colab": {},
    "colab_type": "code",
    "extensions": {
     "jupyter_dashboards": {
      "version": 1,
      "views": {
       "grid_default": {
        "hidden": true
       },
       "report_default": {
        "hidden": true
       }
      }
     }
    },
    "id": "ywkOtwlPpMUX"
   },
   "outputs": [
    {
     "data": {
      "image/png": "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\n",
      "text/plain": [
       "<Figure size 432x288 with 1 Axes>"
      ]
     },
     "metadata": {
      "needs_background": "light"
     },
     "output_type": "display_data"
    }
   ],
   "source": [
    "bar_width=0.4\n",
    "for i in range(4)  :  \n",
    "    plt.bar(np.arange(0+i*3,3+i*3),I_CPLEX.T[i],color='b',alpha=0.8,width=bar_width,label='CPLEX')\n",
    "    plt.bar(np.arange(0+i*3,3+i*3)+bar_width,I_GLPK_MI.T[i],color='r',alpha=0.8,width=bar_width,label='GLPK_MI')\n",
    "#plt.xticks(np.arange(0+i*3,3+i*3) + bar_width, ('1', '2', '3', '4'))\n",
    "plt.legend()\n",
    "plt.tight_layout()\n",
    "plt.show()"
   ]
  },
  {
   "cell_type": "code",
   "execution_count": 17,
   "metadata": {
    "collapsed": true,
    "extensions": {
     "jupyter_dashboards": {
      "version": 1,
      "views": {
       "grid_default": {
        "hidden": true
       },
       "report_default": {
        "hidden": true
       }
      }
     }
    }
   },
   "outputs": [],
   "source": [
    "plt.bar?"
   ]
  },
  {
   "cell_type": "code",
   "execution_count": 18,
   "metadata": {},
   "outputs": [
    {
     "data": {
      "text/plain": [
       "array([[24, 23, 23],\n",
       "       [39, 37, 36],\n",
       "       [21, 20, 19]])"
      ]
     },
     "execution_count": 18,
     "metadata": {},
     "output_type": "execute_result"
    }
   ],
   "source": [
    "u"
   ]
  },
  {
   "cell_type": "code",
   "execution_count": 19,
   "metadata": {
    "collapsed": true
   },
   "outputs": [],
   "source": [
    "lll=[[24, 23, 23],[39, 37, 36]]"
   ]
  },
  {
   "cell_type": "code",
   "execution_count": 20,
   "metadata": {},
   "outputs": [
    {
     "data": {
      "text/plain": [
       "[[24, 39], [23, 37], [23, 36]]"
      ]
     },
     "execution_count": 20,
     "metadata": {},
     "output_type": "execute_result"
    }
   ],
   "source": [
    "\n",
    "list(map(list, zip(*lll)))\n"
   ]
  },
  {
   "cell_type": "code",
   "execution_count": 21,
   "metadata": {},
   "outputs": [
    {
     "data": {
      "text/plain": [
       "[[24, 23, 23], [39, 37, 36]]"
      ]
     },
     "execution_count": 21,
     "metadata": {},
     "output_type": "execute_result"
    }
   ],
   "source": [
    "lll"
   ]
  },
  {
   "cell_type": "code",
   "execution_count": 22,
   "metadata": {},
   "outputs": [
    {
     "ename": "NameError",
     "evalue": "name 's' is not defined",
     "output_type": "error",
     "traceback": [
      "\u001b[1;31m---------------------------------------------------------------------------\u001b[0m",
      "\u001b[1;31mNameError\u001b[0m                                 Traceback (most recent call last)",
      "\u001b[1;32m<ipython-input-22-c20b8d224225>\u001b[0m in \u001b[0;36m<module>\u001b[1;34m\u001b[0m\n\u001b[0;32m      1\u001b[0m \u001b[1;32mfor\u001b[0m \u001b[0mi\u001b[0m \u001b[1;32min\u001b[0m \u001b[0mrange\u001b[0m\u001b[1;33m(\u001b[0m\u001b[1;36m3\u001b[0m\u001b[1;33m)\u001b[0m\u001b[1;33m:\u001b[0m\u001b[1;33m\u001b[0m\u001b[0m\n\u001b[1;32m----> 2\u001b[1;33m         \u001b[1;32mif\u001b[0m \u001b[0msum\u001b[0m\u001b[1;33m(\u001b[0m\u001b[0ms\u001b[0m\u001b[1;33m[\u001b[0m\u001b[0mi\u001b[0m\u001b[1;33m]\u001b[0m\u001b[1;33m)\u001b[0m\u001b[1;33m>\u001b[0m\u001b[1;36m15\u001b[0m\u001b[1;33m:\u001b[0m\u001b[1;33m\u001b[0m\u001b[0m\n\u001b[0m\u001b[0;32m      3\u001b[0m             \u001b[0mdiff\u001b[0m\u001b[1;33m=\u001b[0m\u001b[0mabs\u001b[0m\u001b[1;33m(\u001b[0m\u001b[1;36m15\u001b[0m\u001b[1;33m-\u001b[0m\u001b[0msum\u001b[0m\u001b[1;33m(\u001b[0m\u001b[0ms\u001b[0m\u001b[1;33m[\u001b[0m\u001b[0mi\u001b[0m\u001b[1;33m]\u001b[0m\u001b[1;33m)\u001b[0m\u001b[1;33m)\u001b[0m\u001b[1;33m\u001b[0m\u001b[0m\n\u001b[0;32m      4\u001b[0m             \u001b[0mcost\u001b[0m\u001b[1;33m.\u001b[0m\u001b[0mappend\u001b[0m\u001b[1;33m(\u001b[0m\u001b[0mdiff\u001b[0m\u001b[1;33m)\u001b[0m\u001b[1;33m\u001b[0m\u001b[0m\n\u001b[0;32m      5\u001b[0m             \u001b[0mMin\u001b[0m\u001b[1;33m=\u001b[0m\u001b[0ms\u001b[0m\u001b[1;33m[\u001b[0m\u001b[0mi\u001b[0m\u001b[1;33m]\u001b[0m\u001b[1;33m.\u001b[0m\u001b[0mindex\u001b[0m\u001b[1;33m(\u001b[0m\u001b[0mmin\u001b[0m\u001b[1;33m(\u001b[0m\u001b[0ms\u001b[0m\u001b[1;33m[\u001b[0m\u001b[0mi\u001b[0m\u001b[1;33m]\u001b[0m\u001b[1;33m)\u001b[0m\u001b[1;33m)\u001b[0m\u001b[1;33m\u001b[0m\u001b[0m\n",
      "\u001b[1;31mNameError\u001b[0m: name 's' is not defined"
     ]
    }
   ],
   "source": [
    "for i in range(3):\n",
    "        if sum(s[i])>15:\n",
    "            diff=abs(15-sum(s[i]))\n",
    "            cost.append(diff)\n",
    "            Min=s[i].index(min(s[i]))\n",
    "            s[i][Min]=s[i][Min]-diff\n",
    "        if sum(s[i])<15:\n",
    "            diff=abs(15-sum(s[i]))\n",
    "            cost.append(diff)\n",
    "            Max=s[i].index(max(s[i]))\n",
    "            s[i][Max]=s[i][Max]+diff\n",
    "    #s=list(map(list, zip(*s)))"
   ]
 