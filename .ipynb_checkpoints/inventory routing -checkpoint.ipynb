{
 "cells": [
  {
   "cell_type": "raw",
   "metadata": {
    "extensions": {
     "jupyter_dashboards": {
      "version": 1,
      "views": {
       "grid_default": {
        "hidden": true
       },
       "report_default": {}
      }
     }
    }
   },
   "source": [
    "                             \n",
    " x={t_0: Variable((3, 3), boolean=True),\n",
    "    t_1: Variable((3, 3), boolean=True),\n",
    "    t_2: Variable((3, 3), boolean=True)}          \n",
    "\n",
    "     i,i,i  \n",
    " j  [ , , ] \n",
    " j  [ , , ] \n",
    " j  [ , , ] \n",
    " \n",
    "     t,t,t  \n",
    " i  [ , , ] \n",
    " i  [ , , ] \n",
    " i  [ , , ] "
   ]
  },
  {
   "cell_type": "code",
   "execution_count": 208,
   "metadata": {
    "collapsed": true,
    "extensions": {
     "jupyter_dashboards": {
      "version": 1,
      "views": {
       "grid_default": {
        "hidden": true
       },
       "report_default": {}
      }
     }
    }
   },
   "outputs": [],
   "source": [
    "import numpy as np\n",
    "import cvxpy as cp\n",
    "import matplotlib.pyplot as plt"
   ]
  },
  {
   "cell_type": "markdown",
   "metadata": {
    "extensions": {
     "jupyter_dashboards": {
      "version": 1,
      "views": {
       "grid_default": {
        "col": 0,
        "height": 4,
        "hidden": false,
        "row": 0,
        "width": 4
       },
       "report_default": {}
      }
     }
    }
   },
   "source": [
    "# Variables "
   ]
  },
  {
   "cell_type": "code",
   "execution_count": 209,
   "metadata": {
    "extensions": {
     "jupyter_dashboards": {
      "version": 1,
      "views": {
       "grid_default": {
        "hidden": true
       },
       "report_default": {}
      }
     }
    }
   },
   "outputs": [],
   "source": [
    "#x visting order bool\n",
    "n=3\n",
    "x={}\n",
    "T=3\n",
    "for i in range(n):\n",
    "    x[i]=cp.Variable((n+2,n+2),boolean=True)\n",
    "    \n",
    "#dellivered qty = d(i_th hospital ,t_th period -->  )\n",
    "d=cp.Variable((n,n),integer=True)  \n",
    "\n",
    "#invetory = I(i_th hospital ,t_th period -->  )\n",
    "I=cp.Variable((n,n+1),integer=True) \n",
    "\n",
    "\n",
    "#i=0 center , i[1,n] hospitals\n",
    "# y visited to i_th hospital or not =y(i_th hospital,t_th period --> )\n",
    "y=cp.Variable((n+2,n),boolean=True)\n",
    "\n",
    "#auxilary variable for sub tours \n",
    "u=cv.Variable(4,nonneg=True)"
   ]
  },
  {
   "cell_type": "markdown",
   "metadata": {
    "extensions": {
     "jupyter_dashboards": {
      "version": 1,
      "views": {
       "grid_default": {
        "hidden": true
       },
       "report_default": {}
      }
     }
    }
   },
   "source": [
    "# Data / Parameters   "
   ]
  },
  {
   "cell_type": "code",
   "execution_count": 210,
   "metadata": {
    "extensions": {
     "jupyter_dashboards": {
      "version": 1,
      "views": {
       "grid_default": {
        "col": 4,
        "height": 4,
        "hidden": false,
        "row": 0,
        "width": 4
       },
       "report_default": {}
      }
     }
    }
   },
   "outputs": [],
   "source": [
    "# usage = U(i_th hospital ,t_th period -->  )\n",
    "u=np.array([[24,23,23],\n",
    "            [39,37,36],\n",
    "            [21,20,19]])\n",
    "\n",
    "# distance mtx = dm(j_th hospital , i_th hospital ) \n",
    "dm=np.array([[0.00,1.71,7.62,3.53,0.00],\n",
    "             [1.71,0.00,6.32,1.94,1.71],\n",
    "             [7.62,6.32,0.00,6.16,7.62],\n",
    "             [3.53,1.94,6.16,0.00,3.53],\n",
    "             [0.00,1.71,7.62,3.53,0.00]])\n",
    "\n",
    "# intial inventory hospitla blood bank =ini( i_th hospital )\n",
    "ini=np.array([9,15,8])\n",
    "\n",
    "# capacity constraints\n",
    "C=np.array([67, 64, 60])\n"
   ]
  },
  {
   "cell_type": "markdown",
   "metadata": {},
   "source": [
    "# constraints"
   ]
  },
  {
   "cell_type": "code",
   "execution_count": 249,
   "metadata": {},
   "outputs": [],
   "source": [
    "constraints=[]\n",
    "\n",
    "# visited or not to the blood bank \n",
    "for i in range(n):\n",
    "    for a in range(n+2):\n",
    "        constraints.append(y[a,i]==cp.sum(x[i][:,a]))\n",
    "        \n",
    "\n",
    "\n",
    "# invetory balance  inv(t+1_th period)=inv(t_th period)+d(t_th period)-u(t_th period)\n",
    "for i in range(n):\n",
    "    for j in range(n):\n",
    "        constraints.append(I[j,i+1] == I[j,i]+d[j,i]-u[j,i])\n",
    "        \n",
    "# ensure vehicel visit\n",
    "for t in range(n):\n",
    "    constraints.append(y[0,t]==1)\n",
    "for t in range(n):\n",
    "    constraints.append(y[-1,t]==1)    \n",
    "\n",
    "##ensure vehicle leave from NBC\n",
    "#for i in range(n):\n",
    "#    for a in range(n):\n",
    "#        constraints.append(cp.sum(x[i][0,:])==1)\n",
    "\n",
    "#ensure deliver only if visited and postive \n",
    "for i in range(n):\n",
    "    for t in range(n):\n",
    "        constraints.append(d[i,t]<=C[t]*y[i+1,t])\n",
    "for i in range(n):\n",
    "    for t  in range(n):\n",
    "        constraints.append(d[i,t]>=0)\n",
    "        \n",
    "\n",
    "# intial inventory >= last inventory\n",
    "constraints.append(I[:,-1]>=inn)\n",
    "\n",
    "#intial inventory is given\n",
    "constraints.append(I[:,0]==inn)\n",
    "\n",
    "#storage capacity  cosntraint\n",
    "for i in range(n):\n",
    "    for t in range(n):\n",
    "        constraints.append(I[i,t]<=C[i])\n",
    "\n",
    "#inventory is positive\n",
    "for i in range(n):\n",
    "    for j in range(n):\n",
    "        constraints.append(I[i,j]>=1)\n",
    "\n",
    "#sub tour elimination      \n",
    "#for i in range(1,4):\n",
    "#    for j in range(1,4):\n",
    "#        if i != j:\n",
    "#            constraints.append(u[i] - u[j] + 4*x[i,j] <= 3)"
   ]
  },
  {
   "cell_type": "markdown",
   "metadata": {
    "extensions": {
     "jupyter_dashboards": {
      "version": 1,
      "views": {
       "grid_default": {
        "col": 8,
        "height": 4,
        "hidden": false,
        "row": 0,
        "width": 4
       },
       "report_default": {}
      }
     }
    }
   },
   "source": [
    "# Objective Fn"
   ]
  },
  {
   "cell_type": "code",
   "execution_count": 233,
   "metadata": {
    "extensions": {
     "jupyter_dashboards": {
      "version": 1,
      "views": {
       "grid_default": {
        "hidden": true
       },
       "report_default": {}
      }
     }
    }
   },
   "outputs": [],
   "source": [
    "total_cost=0\n",
    "for i in range(3):\n",
    "    total_cost+=cp.sum(cp.multiply(dm[1:4,1:4],x[i][1:4,1:4]))\n",
    "\n",
    "obj=cp.Minimize(cp.sum(total_cost))"
   ]
  },
  {
   "cell_type": "code",
   "execution_count": 234,
   "metadata": {
    "extensions": {
     "jupyter_dashboards": {
      "version": 1,
      "views": {
       "grid_default": {
        "hidden": true
       },
       "report_default": {}
      }
     }
    }
   },
   "outputs": [],
   "source": [
    "Prb=cp.Problem(obj,constraints)\n",
    "#ECOS_BB, GLPK_MI\n",
    "Sol=Prb.solve(solver=cp.GLPK_MI,verbose=True)"
   ]
  },
  {
   "cell_type": "code",
   "execution_count": 235,
   "metadata": {},
   "outputs": [
    {
     "data": {
      "text/plain": [
       "Solution(optimal, {11593: array([[0., 0., 0., 0., 0.],\n",
       "       [0., 0., 0., 0., 0.],\n",
       "       [0., 0., 0., 0., 0.],\n",
       "       [0., 0., 0., 0., 0.],\n",
       "       [1., 1., 1., 1., 1.]]), 11594: array([[0., 0., 1., 1., 0.],\n",
       "       [0., 0., 0., 0., 0.],\n",
       "       [0., 0., 0., 0., 0.],\n",
       "       [0., 0., 0., 0., 0.],\n",
       "       [1., 0., 0., 0., 1.]]), 11595: array([[0., 1., 1., 0., 0.],\n",
       "       [0., 0., 0., 0., 0.],\n",
       "       [0., 0., 0., 0., 0.],\n",
       "       [0., 0., 0., 0., 0.],\n",
       "       [1., 0., 0., 0., 1.]]), 11596: array([[39.,  0., 31.],\n",
       "       [25., 37., 50.],\n",
       "       [14., 46.,  0.]]), 11597: array([[ 9., 24.,  1.,  9.],\n",
       "       [15.,  1.,  1., 15.],\n",
       "       [ 8.,  1., 27.,  8.]]), 11598: array([[1., 1., 1.],\n",
       "       [1., 0., 1.],\n",
       "       [1., 1., 1.],\n",
       "       [1., 1., 0.],\n",
       "       [1., 1., 1.]])}, {}, {})"
      ]
     },
     "execution_count": 235,
     "metadata": {},
     "output_type": "execute_result"
    }
   ],
   "source": [
    "Prb.solution"
   ]
  },
  {
   "cell_type": "code",
   "execution_count": 238,
   "metadata": {
    "extensions": {
     "jupyter_dashboards": {
      "version": 1,
      "views": {
       "grid_default": {
        "hidden": true
       },
       "report_default": {}
      }
     }
    }
   },
   "outputs": [
    {
     "data": {
      "text/plain": [
       "array([[0.  , 6.32, 1.94],\n",
       "       [6.32, 0.  , 6.16],\n",
       "       [1.94, 6.16, 0.  ]])"
      ]
     },
     "execution_count": 238,
     "metadata": {},
     "output_type": "execute_result"
    }
   ],
   "source": [
    "dm[1:4,1:4]"
   ]
  },
  {
   "cell_type": "code",
   "execution_count": 239,
   "metadata": {
    "extensions": {
     "jupyter_dashboards": {
      "version": 1,
      "views": {
       "grid_default": {
        "hidden": true
       },
       "report_default": {}
      }
     }
    }
   },
   "outputs": [
    {
     "data": {
      "text/plain": [
       "0.0"
      ]
     },
     "execution_count": 239,
     "metadata": {},
     "output_type": "execute_result"
    }
   ],
   "source": [
    "Sol"
   ]
  },
  {
   "cell_type": "code",
   "execution_count": 240,
   "metadata": {
    "extensions": {
     "jupyter_dashboards": {
      "version": 1,
      "views": {
       "grid_default": {
        "hidden": true
       },
       "report_default": {}
      }
     }
    }
   },
   "outputs": [
    {
     "name": "stdout",
     "output_type": "stream",
     "text": [
      "[[0. 0. 0. 0. 0.]\n",
      " [0. 0. 0. 0. 0.]\n",
      " [0. 0. 0. 0. 0.]\n",
      " [0. 0. 0. 0. 0.]\n",
      " [1. 1. 1. 1. 1.]]\n",
      "[[0. 0. 1. 1. 0.]\n",
      " [0. 0. 0. 0. 0.]\n",
      " [0. 0. 0. 0. 0.]\n",
      " [0. 0. 0. 0. 0.]\n",
      " [1. 0. 0. 0. 1.]]\n",
      "[[0. 1. 1. 0. 0.]\n",
      " [0. 0. 0. 0. 0.]\n",
      " [0. 0. 0. 0. 0.]\n",
      " [0. 0. 0. 0. 0.]\n",
      " [1. 0. 0. 0. 1.]]\n"
     ]
    }
   ],
   "source": [
    "for i in range(3):\n",
    "    print(x[i].value) "
   ]
  },
  {
   "cell_type": "code",
   "execution_count": 241,
   "metadata": {
    "extensions": {
     "jupyter_dashboards": {
      "version": 1,
      "views": {
       "grid_default": {
        "hidden": true
       },
       "report_default": {}
      }
     }
    }
   },
   "outputs": [
    {
     "data": {
      "text/plain": [
       "array([[ 9., 24.,  1.,  9.],\n",
       "       [15.,  1.,  1., 15.],\n",
       "       [ 8.,  1., 27.,  8.]])"
      ]
     },
     "execution_count": 241,
     "metadata": {},
     "output_type": "execute_result"
    }
   ],
   "source": [
    "I.value"
   ]
  },
  {
   "cell_type": "code",
   "execution_count": 242,
   "metadata": {
    "extensions": {
     "jupyter_dashboards": {
      "version": 1,
      "views": {
       "grid_default": {
        "hidden": true
       },
       "report_default": {}
      }
     }
    }
   },
   "outputs": [
    {
     "data": {
      "text/plain": [
       "array([[39.,  0., 31.],\n",
       "       [25., 37., 50.],\n",
       "       [14., 46.,  0.]])"
      ]
     },
     "execution_count": 242,
     "metadata": {},
     "output_type": "execute_result"
    }
   ],
   "source": [
    "d.value"
   ]
  },
  {
   "cell_type": "code",
   "execution_count": 243,
   "metadata": {
    "extensions": {
     "jupyter_dashboards": {
      "version": 1,
      "views": {
       "grid_default": {
        "hidden": true
       },
       "report_default": {}
      }
     }
    }
   },
   "outputs": [
    {
     "data": {
      "text/plain": [
       "array([[1., 1., 1.],\n",
       "       [1., 0., 1.],\n",
       "       [1., 1., 1.],\n",
       "       [1., 1., 0.],\n",
       "       [1., 1., 1.]])"
      ]
     },
     "execution_count": 243,
     "metadata": {},
     "output_type": "execute_result"
    }
   ],
   "source": [
    "y.value"
   ]
  },
  {
   "cell_type": "code",
   "execution_count": 244,
   "metadata": {},
   "outputs": [
    {
     "data": {
      "text/plain": [
       "(Variable((3, 4), integer=True),\n",
       " Variable((3, 3), integer=True),\n",
       " array([[24, 23, 23],\n",
       "        [39, 37, 36],\n",
       "        [21, 20, 19]]))"
      ]
     },
     "execution_count": 244,
     "metadata": {},
     "output_type": "execute_result"
    }
   ],
   "source": [
    "I, d, u"
   ]
  },
  {
   "cell_type": "code",
   "execution_count": 245,
   "metadata": {},
   "outputs": [
    {
     "data": {
      "text/plain": [
       "array([[ 9., 24.,  1.,  9.],\n",
       "       [15.,  1.,  1., 15.],\n",
       "       [ 8.,  1., 27.,  8.]])"
      ]
     },
     "execution_count": 245,
     "metadata": {},
     "output_type": "execute_result"
    }
   ],
   "source": [
    "I.value"
   ]
  },
  {
   "cell_type": "code",
   "execution_count": 246,
   "metadata": {},
   "outputs": [
    {
     "data": {
      "text/plain": [
       "array([[39.,  0., 31.],\n",
       "       [25., 37., 50.],\n",
       "       [14., 46.,  0.]])"
      ]
     },
     "execution_count": 246,
     "metadata": {},
     "output_type": "execute_result"
    }
   ],
   "source": [
    "d.value"
   ]
  },
  {
   "cell_type": "code",
   "execution_count": 247,
   "metadata": {},
   "outputs": [
    {
     "data": {
      "text/plain": [
       "array([[24, 23, 23],\n",
       "       [39, 37, 36],\n",
       "       [21, 20, 19]])"
      ]
     },
     "execution_count": 247,
     "metadata": {},
     "output_type": "execute_result"
    }
   ],
   "source": [
    "u"
   ]
  },
  {
   "cell_type": "code",
   "execution_count": null,
   "metadata": {
    "collapsed": true
   },
   "outputs": [],
   "source": []
  }
 ],
 "metadata": {
  "anaconda-cloud": {},
  "extensions": {
   "jupyter_dashboards": {
    "activeView": "grid_default",
    "version": 1,
    "views": {
     "grid_default": {
      "cellMargin": 10,
      "defaultCellHeight": 20,
      "maxColumns": 12,
      "name": "grid",
      "type": "grid"
     },
     "report_default": {
      "name": "report",
      "type": "report"
     }
    }
   }
  },
  "kernelspec": {
   "display_name": "Python [default]",
   "language": "python",
   "name": "python3"
  },
  "language_info": {
   "codemirror_mode": {
    "name": "ipython",
    "version": 3
   },
   "file_extension": ".py",
   "mimetype": "text/x-python",
   "name": "python",
   "nbconvert_exporter": "python",
   "pygments_lexer": "ipython3",
   "version": "3.5.6"
  },
  "toc": {
   "base_numbering": 1,
   "nav_menu": {},
   "number_sections": false,
   "sideBar": false,
   "skip_h1_title": false,
   "title_cell": "Table of Contents",
   "title_sidebar": "Contents",
   "toc_cell": false,
   "toc_position": {},
   "toc_section_display": false,
   "toc_window_display": false
  }
 },
 "nbformat": 4,
 "nbformat_minor": 2
}
