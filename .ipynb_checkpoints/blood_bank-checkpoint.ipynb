{
 "cells": [
  {
   "cell_type": "code",
   "execution_count": 1,
   "metadata": {
    "colab": {},
    "colab_type": "code",
    "collapsed": true,
    "id": "74QeeC7Ryoyi"
   },
   "outputs": [],
   "source": [
    "import pandas as pd\n",
    "import numpy as np\n",
    "import cvxpy as cv"
   ]
  },
  {
   "cell_type": "code",
   "execution_count": 2,
   "metadata": {
    "colab": {},
    "colab_type": "code",
    "collapsed": true,
    "id": "9Pgus2Sjyub3"
   },
   "outputs": [],
   "source": [
    "m=1000\n",
    "\n",
    "\n",
    "dis=np.array([[m,10,40,30],\n",
    "              [10,m,5,40],\n",
    "              [40,5,m,20],\n",
    "              [30,40,20,m]])\n",
    "\n",
    "demand=np.array([5,10,15,10])\n",
    "x=cv.Variable(dis.shape,boolean=True)"
   ]
  },
  {
   "cell_type": "code",
   "execution_count": 3,
   "metadata": {
    "colab": {},
    "colab_type": "code",
    "collapsed": true,
    "id": "EqLjDza3DtVR"
   },
   "outputs": [],
   "source": [
    "d=cv.Variable(4, nonneg=True )\n",
    "\n",
    "  "
   ]
  },
  {
   "cell_type": "code",
   "execution_count": null,
   "metadata": {
    "colab": {},
    "colab_type": "code",
    "collapsed": true,
    "id": "gL_JRBLxuSBA"
   },
   "outputs": [],
   "source": []
  },
  {
   "cell_type": "code",
   "execution_count": 4,
   "metadata": {
    "colab": {},
    "colab_type": "code",
    "collapsed": true,
    "id": "QmKczR426eJ1"
   },
   "outputs": [],
   "source": [
    "u=cv.Variable(4,nonneg=True)\n",
    "constraints= [cv.sum(x,axis=0)==1,cv.sum(x,axis=1)==1,u<=3,cv.sum(d)<=35]\n",
    "\n",
    "#for i in range(4): \n",
    "    #constraints.append(u[i] >= 0)"
   ]
  },
  {
   "cell_type": "code",
   "execution_count": 5,
   "metadata": {
    "colab": {},
    "colab_type": "code",
    "collapsed": true,
    "id": "avEyudpD069z"
   },
   "outputs": [],
   "source": [
    "Obj=cv.Minimize(cv.sum(cv.multiply(dis,x))-cv.sum(d))\n",
    "#sum([dis[i,:]*x[:,i] for i in range(4)])\n",
    "\n",
    "\n",
    "for i in range(1,4):\n",
    "    for j in range(1,4):\n",
    "        if i != j:\n",
    "            constraints.append(u[i] - u[j] + 4*x[i,j] <= 3)\n",
    "            \n",
    "\n",
    "y=cv.Variable(4)\n",
    "for i in range(4):\n",
    "  constraints.append(y[i]==cv.sum(x,axis=1))\n",
    "  \n",
    "for i in range(4):\n",
    "  constraints.append(demand[i]*y[i]>=d[i])\n",
    "  "
   ]
  },
  {
   "cell_type": "code",
   "execution_count": null,
   "metadata": {
    "colab": {},
    "colab_type": "code",
    "collapsed": true,
    "id": "AsNZq8Rxy2W_"
   },
   "outputs": [],
   "source": []
  },
  {
   "cell_type": "code",
   "execution_count": 6,
   "metadata": {
    "colab": {
     "base_uri": "https://localhost:8080/",
     "height": 323
    },
    "colab_type": "code",
    "id": "y8Gy6GcxD8iT",
    "outputId": "5554d4da-e883-4109-e548-d2bce47b31c5"
   },
   "outputs": [
    {
     "data": {
      "text/plain": [
       "[Equality(Expression(AFFINE, NONNEGATIVE, (4,)), Constant(CONSTANT, NONNEGATIVE, ())),\n",
       " Equality(Expression(AFFINE, NONNEGATIVE, (4,)), Constant(CONSTANT, NONNEGATIVE, ())),\n",
       " Inequality(Variable((4,), nonneg=True)),\n",
       " Inequality(Expression(AFFINE, NONNEGATIVE, ())),\n",
       " Inequality(Expression(AFFINE, UNKNOWN, ())),\n",
       " Inequality(Expression(AFFINE, UNKNOWN, ())),\n",
       " Inequality(Expression(AFFINE, UNKNOWN, ())),\n",
       " Inequality(Expression(AFFINE, UNKNOWN, ())),\n",
       " Inequality(Expression(AFFINE, UNKNOWN, ())),\n",
       " Inequality(Expression(AFFINE, UNKNOWN, ())),\n",
       " Equality(Expression(AFFINE, UNKNOWN, ()), Expression(AFFINE, NONNEGATIVE, (4,))),\n",
       " Equality(Expression(AFFINE, UNKNOWN, ()), Expression(AFFINE, NONNEGATIVE, (4,))),\n",
       " Equality(Expression(AFFINE, UNKNOWN, ()), Expression(AFFINE, NONNEGATIVE, (4,))),\n",
       " Equality(Expression(AFFINE, UNKNOWN, ()), Expression(AFFINE, NONNEGATIVE, (4,))),\n",
       " Inequality(Expression(AFFINE, NONNEGATIVE, ())),\n",
       " Inequality(Expression(AFFINE, NONNEGATIVE, ())),\n",
       " Inequality(Expression(AFFINE, NONNEGATIVE, ())),\n",
       " Inequality(Expression(AFFINE, NONNEGATIVE, ()))]"
      ]
     },
     "execution_count": 6,
     "metadata": {},
     "output_type": "execute_result"
    }
   ],
   "source": [
    "constraints\n"
   ]
  },
  {
   "cell_type": "code",
   "execution_count": 16,
   "metadata": {
    "colab": {
     "base_uri": "https://localhost:8080/",
     "height": 2516
    },
    "colab_type": "code",
    "id": "5BMprfEEACv5",
    "outputId": "e4287021-62b9-4961-b463-8643a44d20be"
   },
   "outputs": [
    {
     "name": "stdout",
     "output_type": "stream",
     "text": [
      "Iter\tLower Bound\tUpper Bound\tGap\n",
      "================================================\n",
      "\n",
      "ECOS 2.0.4 - (C) embotech GmbH, Zurich Switzerland, 2012-15. Web: www.embotech.com/ECOS\n",
      "\n",
      "It     pcost       dcost      gap   pres   dres    k/t    mu     step   sigma     IR    |   BT\n",
      " 0  +4.930e+02  -2.142e+04  +6e+04  2e-01  2e-01  1e+00  8e+02    ---    ---    1  1  - |  -  - \n",
      " 1  -4.489e+02  -3.058e+03  +1e+04  2e-02  3e-02  2e+01  2e+02  0.8469  5e-02   1  1  1 |  0  0\n",
      " 2  +3.353e+01  -1.175e+02  +8e+02  1e-03  2e-03  2e+00  1e+01  0.9483  2e-02   1  1  1 |  0  0\n",
      " 3  +3.105e+01  +1.443e+01  +9e+01  1e-04  2e-04  2e-01  1e+00  0.9091  2e-02   1  1  1 |  0  0\n",
      " 4  +2.778e+01  +2.535e+01  +1e+01  1e-05  3e-05  3e-02  2e-01  0.8697  2e-02   1  1  1 |  0  0\n",
      " 5  +2.755e+01  +2.738e+01  +9e-01  1e-06  2e-06  3e-03  1e-02  0.9638  3e-02   1  1  1 |  0  0\n",
      " 6  +2.750e+01  +2.750e+01  +1e-02  1e-08  2e-08  3e-05  1e-04  0.9890  1e-04   1  1  1 |  0  0\n",
      " 7  +2.750e+01  +2.750e+01  +1e-04  1e-10  2e-10  3e-07  2e-06  0.9890  1e-04   1  1  1 |  0  0\n",
      " 8  +2.750e+01  +2.750e+01  +1e-06  1e-12  2e-12  4e-09  2e-08  0.9890  1e-04   1  0  0 |  0  0\n",
      " 9  +2.750e+01  +2.750e+01  +1e-08  1e-14  3e-14  4e-11  2e-10  0.9890  1e-04   2  0  0 |  0  0\n",
      "\n",
      "OPTIMAL (within feastol=2.7e-14, reltol=4.8e-10, abstol=1.3e-08).\n",
      "Runtime: 0.003682 seconds.\n",
      "\n",
      "\n",
      "ECOS 2.0.4 - (C) embotech GmbH, Zurich Switzerland, 2012-15. Web: www.embotech.com/ECOS\n",
      "\n",
      "It     pcost       dcost      gap   pres   dres    k/t    mu     step   sigma     IR    |   BT\n",
      " 0  +7.587e+01  -1.605e+04  +5e+04  2e-01  2e-01  1e+00  7e+02    ---    ---    1  1  - |  -  - \n",
      " 1  +2.361e+01  -2.416e+03  +1e+04  3e-02  3e-02  2e+01  1e+02  0.8260  4e-02   1  1  1 |  0  0\n",
      " 2  +4.355e+03  -2.514e+04  +9e+03  6e-01  2e-01  7e+02  1e+02  0.4318  6e-01   1  1  2 |  0  0\n",
      " 3  +1.718e+03  -6.221e+03  +1e+03  2e-01  5e-02  9e+02  2e+01  0.8629  3e-03   1  1  1 |  0  0\n",
      " 4  +7.743e+02  +2.379e+04  +2e+01  1e-01  3e-02  3e+04  3e-01  0.9890  6e-03   1  2  2 |  0  0\n",
      " 5  +7.609e+02  +2.466e+06  +2e-01  1e-01  3e-02  2e+06  3e-03  0.9890  1e-04   2  2  2 |  0  0\n",
      " 6  +7.589e+02  +2.222e+08  +3e-03  1e-01  3e-02  2e+08  4e-05  0.9890  1e-04   1  1  1 |  0  0\n",
      " 7  +7.570e+02  +1.999e+10  +3e-05  1e-01  3e-02  2e+10  4e-07  0.9890  1e-04   1  0  0 |  0  0\n",
      "\n",
      "PRIMAL INFEASIBLE (within feastol=4.0e-10).\n",
      "Runtime: 0.002442 seconds.\n",
      "\n",
      "0 \t27.50 \t\tinf \t\tinf\n",
      "\n",
      "ECOS 2.0.4 - (C) embotech GmbH, Zurich Switzerland, 2012-15. Web: www.embotech.com/ECOS\n",
      "\n",
      "It     pcost       dcost      gap   pres   dres    k/t    mu     step   sigma     IR    |   BT\n",
      " 0  +6.003e+02  -2.083e+04  +6e+04  2e-01  2e-01  1e+00  8e+02    ---    ---    1  1  - |  -  - \n",
      " 1  -3.304e+02  -3.156e+03  +1e+04  2e-02  3e-02  2e+01  2e+02  0.8275  5e-02   1  1  1 |  0  0\n",
      " 2  +4.259e+01  -2.551e+02  +1e+03  2e-03  3e-03  3e+00  2e+01  0.8940  2e-02   1  1  1 |  0  0\n",
      " 3  +4.787e+01  -8.564e+00  +3e+02  4e-04  6e-04  6e-01  4e+00  0.8341  4e-02   1  1  1 |  0  0\n",
      " 4  +3.113e+01  +1.863e+01  +7e+01  7e-05  1e-04  2e-01  9e-01  0.8974  1e-01   1  1  1 |  0  0\n",
      " 5  +3.044e+01  +2.790e+01  +1e+01  2e-05  3e-05  4e-02  2e-01  0.8370  5e-02   1  1  1 |  0  0\n",
      " 6  +3.001e+01  +2.983e+01  +9e-01  1e-06  2e-06  3e-03  1e-02  0.9428  1e-02   1  1  1 |  0  0\n",
      " 7  +3.000e+01  +3.000e+01  +1e-02  1e-08  2e-08  4e-05  1e-04  0.9890  1e-04   1  1  1 |  0  0\n",
      " 8  +3.000e+01  +3.000e+01  +1e-04  1e-10  2e-10  4e-07  2e-06  0.9890  1e-04   1  1  1 |  0  0\n",
      " 9  +3.000e+01  +3.000e+01  +1e-06  1e-12  3e-12  4e-09  2e-08  0.9890  1e-04   1  0  0 |  0  0\n",
      "10  +3.000e+01  +3.000e+01  +1e-08  2e-14  3e-14  5e-11  2e-10  0.9890  1e-04   1  0  0 |  0  0\n",
      "\n",
      "OPTIMAL (within feastol=3.0e-14, reltol=4.8e-10, abstol=1.4e-08).\n",
      "Runtime: 0.008532 seconds.\n",
      "\n",
      "\n",
      "ECOS 2.0.4 - (C) embotech GmbH, Zurich Switzerland, 2012-15. Web: www.embotech.com/ECOS\n",
      "\n",
      "It     pcost       dcost      gap   pres   dres    k/t    mu     step   sigma     IR    |   BT\n",
      " 0  +3.857e+02  -2.105e+04  +6e+04  2e-01  2e-01  1e+00  8e+02    ---    ---    1  1  - |  -  - \n",
      " 1  -3.795e+02  -4.958e+03  +2e+04  4e-02  5e-02  4e+01  3e+02  0.7615  1e-01   1  1  1 |  0  0\n",
      " 2  +7.302e+00  -6.943e+02  +3e+03  5e-03  7e-03  1e+01  4e+01  0.9151  1e-01   1  1  1 |  0  0\n",
      " 3  +4.278e+01  -8.950e+00  +3e+02  4e-04  5e-04  1e+00  4e+00  0.9230  2e-03   1  1  1 |  0  0\n",
      " 4  +2.773e+01  +1.801e+01  +5e+01  6e-05  9e-05  2e-01  7e-01  0.8520  5e-02   1  1  1 |  0  0\n",
      " 5  +2.764e+01  +2.683e+01  +4e+00  5e-06  8e-06  2e-02  6e-02  0.9178  2e-03   1  1  1 |  0  0\n",
      " 6  +2.750e+01  +2.749e+01  +7e-02  9e-08  1e-07  3e-04  1e-03  0.9847  3e-03   1  1  1 |  0  0\n",
      " 7  +2.750e+01  +2.750e+01  +8e-04  1e-09  2e-09  3e-06  1e-05  0.9890  1e-04   1  1  1 |  0  0\n",
      " 8  +2.750e+01  +2.750e+01  +9e-06  1e-11  2e-11  4e-08  1e-07  0.9890  1e-04   1  0  0 |  0  0\n",
      " 9  +2.750e+01  +2.750e+01  +1e-07  1e-13  2e-13  4e-10  1e-09  0.9890  1e-04   1  0  0 |  0  0\n",
      "\n",
      "OPTIMAL (within feastol=1.9e-13, reltol=3.6e-09, abstol=9.8e-08).\n",
      "Runtime: 0.004213 seconds.\n",
      "\n",
      "\n",
      "ECOS 2.0.4 - (C) embotech GmbH, Zurich Switzerland, 2012-15. Web: www.embotech.com/ECOS\n",
      "\n",
      "It     pcost       dcost      gap   pres   dres    k/t    mu     step   sigma     IR    |   BT\n",
      " 0  +8.085e+01  -1.605e+04  +5e+04  2e-01  2e-01  1e+00  7e+02    ---    ---    1  1  - |  -  - \n",
      " 1  -2.218e+01  -2.409e+03  +1e+04  3e-02  3e-02  1e+01  1e+02  0.8209  3e-02   1  1  1 |  0  0\n",
      " 2  +2.361e+00  -1.325e+02  +7e+02  1e-03  2e-03  3e+00  9e+00  0.9680  3e-02   1  1  1 |  0  0\n",
      " 3  +2.948e+01  +1.577e+01  +7e+01  1e-04  2e-04  3e-01  1e+00  0.9211  3e-02   1  1  1 |  0  0\n",
      " 4  +2.969e+01  +2.824e+01  +7e+00  1e-05  2e-05  3e-02  1e-01  0.8960  3e-03   1  1  1 |  0  0\n",
      " 5  +3.000e+01  +2.998e+01  +8e-02  2e-07  2e-07  4e-04  1e-03  0.9890  4e-04   1  1  1 |  0  0\n",
      " 6  +3.000e+01  +3.000e+01  +9e-04  2e-09  3e-09  4e-06  1e-05  0.9890  1e-04   1  0  1 |  0  0\n",
      " 7  +3.000e+01  +3.000e+01  +1e-05  2e-11  3e-11  5e-08  1e-07  0.9890  1e-04   1  0  0 |  0  0\n",
      " 8  +3.000e+01  +3.000e+01  +1e-07  2e-13  3e-13  5e-10  2e-09  0.9890  1e-04   1  0  0 |  0  0\n",
      "\n",
      "OPTIMAL (within feastol=3.1e-13, reltol=3.8e-09, abstol=1.1e-07).\n",
      "Runtime: 0.001001 seconds.\n",
      "\n",
      "1 \t27.50 \t\t30.00 \t\t2.50\n",
      "\n",
      "ECOS 2.0.4 - (C) embotech GmbH, Zurich Switzerland, 2012-15. Web: www.embotech.com/ECOS\n",
      "\n",
      "It     pcost       dcost      gap   pres   dres    k/t    mu     step   sigma     IR    |   BT\n",
      " 0  +4.853e+02  -2.066e+04  +6e+04  2e-01  2e-01  1e+00  8e+02    ---    ---    1  1  - |  -  - \n",
      " 1  -2.854e+02  -5.214e+03  +2e+04  4e-02  5e-02  4e+01  3e+02  0.7428  1e-01   1  1  1 |  0  0\n",
      " 2  +7.996e+01  -1.425e+03  +6e+03  1e-02  1e-02  3e+01  9e+01  0.7918  1e-01   1  1  1 |  0  0\n",
      " 3  +2.861e+01  -1.362e+02  +7e+02  1e-03  1e-03  3e+00  1e+01  0.9194  4e-02   1  1  1 |  0  0\n",
      " 4  +3.220e+01  +1.491e+01  +8e+01  1e-04  1e-04  3e-01  1e+00  0.8970  6e-03   1  1  1 |  0  0\n",
      " 5  +2.993e+01  +2.830e+01  +7e+00  1e-05  1e-05  3e-02  1e-01  0.9077  3e-03   1  1  1 |  0  0\n",
      " 6  +3.000e+01  +2.998e+01  +8e-02  1e-07  2e-07  4e-04  1e-03  0.9890  4e-04   1  1  1 |  0  0\n",
      " 7  +3.000e+01  +3.000e+01  +9e-04  1e-09  2e-09  4e-06  1e-05  0.9890  1e-04   1  0  0 |  0  0\n",
      " 8  +3.000e+01  +3.000e+01  +1e-05  2e-11  2e-11  4e-08  1e-07  0.9890  1e-04   1  0  0 |  0  0\n",
      " 9  +3.000e+01  +3.000e+01  +1e-07  2e-13  2e-13  5e-10  2e-09  0.9890  1e-04   1  0  0 |  0  0\n",
      "\n",
      "OPTIMAL (within feastol=2.1e-13, reltol=3.8e-09, abstol=1.1e-07).\n",
      "Runtime: 0.001453 seconds.\n",
      "\n",
      "\n",
      "ECOS 2.0.4 - (C) embotech GmbH, Zurich Switzerland, 2012-15. Web: www.embotech.com/ECOS\n",
      "\n",
      "It     pcost       dcost      gap   pres   dres    k/t    mu     step   sigma     IR    |   BT\n",
      " 0  +2.862e+02  -2.086e+04  +6e+04  2e-01  2e-01  1e+00  8e+02    ---    ---    1  1  - |  -  - \n",
      " 1  -3.382e+02  -5.922e+03  +2e+04  4e-02  6e-02  4e+01  3e+02  0.6945  9e-02   1  1  1 |  0  0\n",
      " 2  -4.192e+01  -1.670e+03  +7e+03  1e-02  2e-02  4e+01  9e+01  0.8966  2e-01   1  1  1 |  0  0\n",
      " 3  +4.955e+01  -5.063e+01  +4e+02  8e-04  9e-04  2e+00  6e+00  0.9414  9e-03   1  1  1 |  0  0\n",
      " 4  +5.236e+01  +4.329e+01  +4e+01  6e-05  8e-05  2e-01  6e-01  0.9179  1e-02   1  1  1 |  0  0\n",
      " 5  +5.004e+01  +4.954e+01  +2e+00  3e-06  5e-06  1e-02  3e-02  0.9470  3e-03   1  1  1 |  0  0\n",
      " 6  +5.000e+01  +4.999e+01  +3e-02  4e-08  5e-08  1e-04  4e-04  0.9890  1e-04   1  1  1 |  0  0\n",
      " 7  +5.000e+01  +5.000e+01  +3e-04  4e-10  6e-10  1e-06  4e-06  0.9890  1e-04   1  1  1 |  0  0\n",
      " 8  +5.000e+01  +5.000e+01  +3e-06  5e-12  6e-12  1e-08  4e-08  0.9890  1e-04   1  0  0 |  0  0\n",
      " 9  +5.000e+01  +5.000e+01  +3e-08  5e-14  7e-14  2e-10  5e-10  0.9890  1e-04   1  0  0 |  0  0\n",
      "\n",
      "OPTIMAL (within feastol=6.9e-14, reltol=6.8e-10, abstol=3.4e-08).\n",
      "Runtime: 0.002239 seconds.\n",
      "\n",
      "\n",
      "ECOS 2.0.4 - (C) embotech GmbH, Zurich Switzerland, 2012-15. Web: www.embotech.com/ECOS\n",
      "\n",
      "It     pcost       dcost      gap   pres   dres    k/t    mu     step   sigma     IR    |   BT\n",
      " 0  +1.033e+02  -1.603e+04  +5e+04  2e-01  2e-01  1e+00  7e+02    ---    ---    1  1  - |  -  - \n",
      " 1  +1.469e+01  -2.406e+03  +1e+04  3e-02  3e-02  1e+01  1e+02  0.8197  3e-02   1  1  1 |  0  0\n",
      " 2  +4.694e+01  -9.101e+01  +7e+02  1e-03  2e-03  3e+00  9e+00  0.9676  3e-02   1  1  1 |  0  0\n",
      " 3  +7.452e+01  +6.029e+01  +7e+01  1e-04  2e-04  3e-01  1e+00  0.9206  3e-02   1  1  1 |  0  0\n",
      " 4  +7.468e+01  +7.313e+01  +8e+00  1e-05  2e-05  4e-02  1e-01  0.8928  3e-03   1  1  1 |  0  0\n",
      " 5  +7.500e+01  +7.498e+01  +9e-02  2e-07  2e-07  4e-04  1e-03  0.9890  5e-04   1  1  1 |  0  0\n",
      " 6  +7.500e+01  +7.500e+01  +1e-03  2e-09  3e-09  5e-06  1e-05  0.9890  1e-04   1  0  1 |  0  0\n",
      " 7  +7.500e+01  +7.500e+01  +1e-05  2e-11  3e-11  5e-08  2e-07  0.9890  1e-04   1  0  0 |  0  0\n",
      " 8  +7.500e+01  +7.500e+01  +1e-07  2e-13  3e-13  6e-10  2e-09  0.9890  1e-04   1  0  0 |  0  0\n",
      "\n",
      "OPTIMAL (within feastol=3.3e-13, reltol=1.6e-09, abstol=1.2e-07).\n",
      "Runtime: 0.001957 seconds.\n",
      "\n",
      "2 \t30.00 \t\t30.00 \t\t-0.00\n"
     ]
    },
    {
     "data": {
      "text/plain": [
       "29.999999995706492"
      ]
     },
     "execution_count": 16,
     "metadata": {},
     "output_type": "execute_result"
    }
   ],
   "source": [
    "PRB=cv.Problem(Obj,constraints)\n",
    "#ECOS_BB, GLPK_MI\n",
    "PRB.solve(solver=cv.ECOS_BB,verbose=True)"
   ]
  },
  {
   "cell_type": "code",
   "execution_count": 8,
   "metadata": {
    "colab": {
     "base_uri": "https://localhost:8080/",
     "height": 85
    },
    "colab_type": "code",
    "id": "RsCxCCBPgBnI",
    "outputId": "025463ae-eba3-4756-b373-f31334d150b6"
   },
   "outputs": [
    {
     "data": {
      "text/plain": [
       "array([[0., 0., 0., 1.],\n",
       "       [1., 0., 0., 0.],\n",
       "       [0., 1., 0., 0.],\n",
       "       [0., 0., 1., 0.]])"
      ]
     },
     "execution_count": 8,
     "metadata": {},
     "output_type": "execute_result"
    }
   ],
   "source": [
    "r=x.value\n",
    "r"
   ]
  },
  {
   "cell_type": "code",
   "execution_count": 9,
   "metadata": {
    "colab": {
     "base_uri": "https://localhost:8080/",
     "height": 34
    },
    "colab_type": "code",
    "id": "ZbCD02xpDjaz",
    "outputId": "da98dae3-f746-45b4-c86e-d5d28492c314"
   },
   "outputs": [
    {
     "data": {
      "text/plain": [
       "array([ 4.4887126 ,  8.72973953, 13.05180834,  8.72973953])"
      ]
     },
     "execution_count": 9,
     "metadata": {},
     "output_type": "execute_result"
    }
   ],
   "source": [
    "d.value"
   ]
  },
  {
   "cell_type": "code",
   "execution_count": 10,
   "metadata": {
    "colab": {},
    "colab_type": "code",
    "collapsed": true,
    "id": "sP0Ahup_Dujk"
   },
   "outputs": [],
   "source": [
    "route=['1','-']\n",
    "for i in range(4):\n",
    "  for j in range(4):\n",
    "    if r[i,j]==1:\n",
    "      route.append(str(j)+' -')"
   ]
  },
  {
   "cell_type": "code",
   "execution_count": 11,
   "metadata": {
    "colab": {
     "base_uri": "https://localhost:8080/",
     "height": 34
    },
    "colab_type": "code",
    "id": "sNqUda4hFB9A",
    "outputId": "b8a91bff-cf21-424e-ae18-fb9870bd05bb"
   },
   "outputs": [
    {
     "data": {
      "text/plain": [
       "Expression(AFFINE, NONNEGATIVE, ())"
      ]
     },
     "execution_count": 11,
     "metadata": {},
     "output_type": "execute_result"
    }
   ],
   "source": [
    "cv.sum(demand@x)"
   ]
  },
  {
   "cell_type": "code",
   "execution_count": 12,
   "metadata": {
    "colab": {
     "base_uri": "https://localhost:8080/",
     "height": 34
    },
    "colab_type": "code",
    "id": "zZ0q35dVe4-X",
    "outputId": "4c3c5be3-e7ce-4538-9a73-bb776d860593"
   },
   "outputs": [
    {
     "data": {
      "text/plain": [
       "array([10., 15., 10.,  5.])"
      ]
     },
     "execution_count": 12,
     "metadata": {},
     "output_type": "execute_result"
    }
   ],
   "source": [
    "demand@x.value"
   ]
  },
  {
   "cell_type": "code",
   "execution_count": null,
   "metadata": {
    "colab": {
     "base_uri": "https://localhost:8080/",
     "height": 34
    },
    "colab_type": "code",
    "id": "CXuw2mqchpBR",
    "outputId": "045f97f2-c642-4660-a799-a4f5df2fb697"
   },
   "outputs": [],
   "source": []
  },
  {
   "cell_type": "code",
   "execution_count": null,
   "metadata": {
    "colab": {
     "base_uri": "https://localhost:8080/",
     "height": 34
    },
    "colab_type": "code",
    "id": "MNFprnYyhtfK",
    "outputId": "9480409e-1cba-49fd-df14-af6b0144dfe8"
   },
   "outputs": [],
   "source": []
  },
  {
   "cell_type": "code",
   "execution_count": null,
   "metadata": {
    "colab": {
     "base_uri": "https://localhost:8080/",
     "height": 85
    },
    "colab_type": "code",
    "id": "doalHQNsi_nL",
    "outputId": "e52b99a7-bc77-4a80-cc38-892112d5e8c4"
   },
   "outputs": [],
   "source": []
  },
  {
   "cell_type": "code",
   "execution_count": 13,
   "metadata": {
    "colab": {
     "base_uri": "https://localhost:8080/",
     "height": 34
    },
    "colab_type": "code",
    "id": "KTXIaMyqkn43",
    "outputId": "cc47b504-6755-4298-b2af-7f8535d13926"
   },
   "outputs": [
    {
     "data": {
      "text/plain": [
       "4009250.0"
      ]
     },
     "execution_count": 13,
     "metadata": {},
     "output_type": "execute_result"
    }
   ],
   "source": [
    "cv.sum(cv.multiply(dis,dis)).value"
   ]
  },
  {
   "cell_type": "code",
   "execution_count": 14,
   "metadata": {
    "colab": {
     "base_uri": "https://localhost:8080/",
     "height": 119
    },
    "colab_type": "code",
    "id": "HI2g0sPVoW3g",
    "outputId": "0afee143-66cf-420e-9480-9d9e0b130536"
   },
   "outputs": [
    {
     "name": "stdout",
     "output_type": "stream",
     "text": [
      "3\n",
      "4\n",
      "3\n",
      "5\n",
      "4\n",
      "5\n"
     ]
    }
   ],
   "source": [
    "\n",
    "for i in range(1,4):\n",
    "    for j in range(1,4):\n",
    "      if i!=j:\n",
    "         print(i+j) "
   ]
  },
  {
   "cell_type": "code",
   "execution_count": null,
   "metadata": {
    "colab": {},
    "colab_type": "code",
    "collapsed": true,
    "id": "q1AjWQ_rp_BM"
   },
   "outputs": [],
   "source": []
  }
 ],
 "metadata": {
  "anaconda-cloud": {},
  "colab": {
   "collapsed_sections": [],
   "name": "blood bank",
   "provenance": [],
   "version": "0.3.2"
  },
  "kernelspec": {
   "display_name": "Python [default]",
   "language": "python",
   "name": "python3"
  },
  "language_info": {
   "codemirror_mode": {
    "name": "ipython",
    "version": 3
   },
   "file_extension": ".py",
   "mimetype": "text/x-python",
   "name": "python",
   "nbconvert_exporter": "python",
   "pygments_lexer": "ipython3",
   "version": "3.5.6"
  },
  "toc": {
   "base_numbering": 1,
   "nav_menu": {},
   "number_sections": false,
   "sideBar": false,
   "skip_h1_title": false,
   "title_cell": "Table of Contents",
   "title_sidebar": "Contents",
   "toc_cell": false,
   "toc_position": {},
   "toc_section_display": false,
   "toc_window_display": false
  }
 },
 "nbformat": 4,
 "nbformat_minor": 1
}
