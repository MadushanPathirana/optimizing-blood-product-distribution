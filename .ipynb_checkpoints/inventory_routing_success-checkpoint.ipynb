{
 "cells": [
  {
   "cell_type": "markdown",
   "metadata": {
    "colab_type": "raw",
    "extensions": {
     "jupyter_dashboards": {
      "version": 1,
      "views": {
       "grid_default": {
        "hidden": true
       },
       "report_default": {}
      }
     }
    },
    "id": "61Cgmyz6pMIA"
   },
   "source": [
    "                             \n",
    " x={t_0: Variable((3, 3), boolean=True),\n",
    "    t_1: Variable((3, 3), boolean=True),\n",
    "    t_2: Variable((3, 3), boolean=True)}          \n",
    "\n",
    "     i,i,i  \n",
    " j  [ , , ] \n",
    " j  [ , , ] \n",
    " j  [ , , ] \n",
    " \n",
    "     t,t,t  \n",
    " i  [ , , ] \n",
    " i  [ , , ] \n",
    " i  [ , , ] "
   ]
  },
  {
   "cell_type": "code",
   "execution_count": 1,
   "metadata": {
    "colab": {},
    "colab_type": "code",
    "collapsed": true,
    "extensions": {
     "jupyter_dashboards": {
      "version": 1,
      "views": {
       "grid_default": {
        "hidden": true
       },
       "report_default": {}
      }
     }
    },
    "id": "pDLLRcojpMID"
   },
   "outputs": [],
   "source": [
    "import numpy as np\n",
    "import cvxpy as cp\n",
    "import matplotlib.pyplot as plt"
   ]
  },
  {
   "cell_type": "markdown",
   "metadata": {
    "colab_type": "text",
    "extensions": {
     "jupyter_dashboards": {
      "version": 1,
      "views": {
       "grid_default": {
        "col": 0,
        "height": 4,
        "hidden": false,
        "row": 0,
        "width": 4
       },
       "report_default": {}
      }
     }
    },
    "id": "OwJG8dDdpMIL"
   },
   "source": [
    "# Variables "
   ]
  },
  {
   "cell_type": "code",
   "execution_count": 2,
   "metadata": {
    "colab": {},
    "colab_type": "code",
    "collapsed": true,
    "extensions": {
     "jupyter_dashboards": {
      "version": 1,
      "views": {
       "grid_default": {
        "hidden": true
       },
       "report_default": {}
      }
     }
    },
    "id": "LtkWo_OSpMIM"
   },
   "outputs": [],
   "source": [
    "#x visting order bool\n",
    "n=3\n",
    "x={}\n",
    "v={}\n",
    "T=3\n",
    "for t in range(T):\n",
    "    x[t]=cp.Variable((n+2,n+2),boolean=True)\n",
    "    \n",
    "#dellivered qty = d(i_th hospital ,t_th period -->  )\n",
    "d=cp.Variable((n,T),integer=True)  \n",
    "\n",
    "#invetory = I(i_th hospital ,t_th period -->  )\n",
    "I=cp.Variable((n,T+1),integer=True) \n",
    "\n",
    "\n",
    "#i=0 center , i[1,n] hospitals\n",
    "# y visited to i_th hospital or not =y(i_th hospital,t_th period --> )\n",
    "y=cp.Variable((n+2,T),boolean=True)\n",
    "\n",
    "#auxilary variable for sub tours \n",
    "v=cp.Variable((n+2,T),integer=True)\n",
    "\n",
    "# l leaved from i_th hospital or not =l(i_th hospital,t_th period --> )\n",
    "l=cp.Variable((n+2,T),boolean=True)\n"
   ]
  },
  {
   "cell_type": "markdown",
   "metadata": {
    "colab_type": "text",
    "extensions": {
     "jupyter_dashboards": {
      "version": 1,
      "views": {
       "grid_default": {
        "hidden": true
       },
       "report_default": {}
      }
     }
    },
    "id": "ZqpAvyO9pMIS"
   },
   "source": [
    "# Data / Parameters   "
   ]
  },
  {
   "cell_type": "code",
   "execution_count": 3,
   "metadata": {
    "colab": {},
    "colab_type": "code",
    "collapsed": true,
    "extensions": {
     "jupyter_dashboards": {
      "version": 1,
      "views": {
       "grid_default": {
        "col": 4,
        "height": 4,
        "hidden": false,
        "row": 0,
        "width": 4
       },
       "report_default": {}
      }
     }
    },
    "id": "vl2y8k7rpMIT"
   },
   "outputs": [],
   "source": [
    "# usage = U(i_th hospital ,t_th period -->  )\n",
    "u=np.array([[24,23,23],\n",
    "            [39,37,36],\n",
    "            [21,20,19]])\n",
    "\n",
    "# distance mtx = dm(j_th hospital , i_th hospital ) \n",
    "m=20\n",
    "dm=np.array([[m,1.71,7.62,3.53,m],\n",
    "             [1.71,m,6.32,1.94,1.71],\n",
    "             [7.62,6.32,m,6.16,7.62],\n",
    "             [3.53,1.94,6.16,m,3.53],\n",
    "             [m,1.71,7.62,3.53,m]])\n",
    "\n",
    "# intial inventory hospitla blood bank =ini( i_th hospital )\n",
    "inn=np.array([9,15,8])\n",
    "\n",
    "# capacity constraints\n",
    "C=np.array([67, 64, 60])\n"
   ]
  },
  {
   "cell_type": "markdown",
   "metadata": {
    "colab_type": "text",
    "extensions": {
     "jupyter_dashboards": {
      "version": 1,
      "views": {
       "grid_default": {
        "col": 0,
        "height": 4,
        "hidden": false,
        "row": 4,
        "width": 4
       },
       "report_default": {}
      }
     }
    },
    "id": "oznciet2pMIZ"
   },
   "source": [
    "# constraints"
   ]
  },
  {
   "cell_type": "code",
   "execution_count": 4,
   "metadata": {
    "colab": {},
    "colab_type": "code",
    "collapsed": true,
    "extensions": {
     "jupyter_dashboards": {
      "version": 1,
      "views": {
       "grid_default": {
        "hidden": true
       },
       "report_default": {}
      }
     }
    },
    "id": "hO5yfPIjpMIb"
   },
   "outputs": [],
   "source": [
    "constraints=[]\n",
    "\n",
    "# visited or not to the blood bank \n",
    "for t in range(T):\n",
    "    for a in range(n+2):\n",
    "        constraints.append(y[a,t]==cp.sum(x[t][:,a]))\n",
    "\n",
    "        \n",
    "# if a bb is visited then such bb need to leave \n",
    "for t in range(T):\n",
    "    for a in range(1,4):\n",
    "        constraints.append(cp.sum(x[t][a,:])==cp.sum(x[t][:,a]))\n",
    "        \n",
    "#eliminate visitig  same hospital twice\n",
    "for t in range(T):\n",
    "    for a in range(n+2):\n",
    "        constraints.append(cp.sum(x[t][a,:])<=1)\n",
    "        constraints.append(cp.sum(x[t][:,a])<=1)\n",
    "        \n",
    "# invetory balance  inv(t+1_th period)=inv(t_th period)+d(t_th period)-u(t_th period)\n",
    "for i in range(n):\n",
    "    for j in range(n):\n",
    "        constraints.append(I[j,i+1] == I[j,i]+d[j,i]-u[j,i])\n",
    "        \n",
    "# ensure vehicel leave and visit blood center  every day\n",
    "for t in range(T):\n",
    "        constraints.append(cp.sum(x[t][0,:])==1) #leave from central bb\n",
    "        constraints.append(cp.sum(x[t][:,-1])==1) #arrival to central bb\n",
    "        constraints.append(cp.sum(x[t][-1,:])==0) # ensure vehicel does not leave from central bb\n",
    "#for t in range(n):\n",
    "#    constraints.append(y[0,t]==1)\n",
    "#for t in range(n):\n",
    "#    constraints.append(y[-1,t]==1)    \n",
    "\n",
    "##ensure vehicle leave from NBC\n",
    "#for i in range(n):\n",
    "#    for a in range(n):\n",
    "#        constraints.append(cp.sum(x[i][0,:])==1)\n",
    "\n",
    "#ensure deliver only if visited and postive \n",
    "for i in range(n):\n",
    "    for t in range(T):\n",
    "        constraints.append(d[i,t]<=C[t]*y[i+1,t])\n",
    "for i in range(n):\n",
    "    for t  in range(T):\n",
    "        constraints.append(d[i,t]>=0)\n",
    "        \n",
    "\n",
    "# intial inventory >= last inventory\n",
    "constraints.append(I[:,-1]>=inn)\n",
    "\n",
    "#intial inventory is given\n",
    "constraints.append(I[:,0]==inn)\n",
    "\n",
    "#storage capacity  cosntraint\n",
    "for i in range(n):\n",
    "    for t in range(T):\n",
    "        constraints.append(I[i,t]<=C[i])\n",
    "\n",
    "#inventory is positive\n",
    "for i in range(n):\n",
    "    for j in range(n):\n",
    "        constraints.append(I[i,j]>=1)\n",
    "\n",
    "#sub tour elimination  \n",
    "for t in range(T):\n",
    "    for i in range(1,n+2):\n",
    "        for j in range(1,n+2):\n",
    "            if i != j:\n",
    "                constraints.append(v[i,t] - v[j,t] + 5*x[t][i,j] <= 4)\n",
    "#  v=>0 and v<=n-1\n",
    "for t in range(T):\n",
    "    for i in range(n+2):\n",
    "        constraints.append(v[i,t]>=0)\n",
    "for t in range(T):\n",
    "    for i in range(n+2):\n",
    "        constraints.append(v[i,t]<=4)"
   ]
  },
  {
   "cell_type": "markdown",
   "metadata": {
    "colab_type": "text",
    "extensions": {
     "jupyter_dashboards": {
      "version": 1,
      "views": {
       "grid_default": {
        "col": 8,
        "height": 4,
        "hidden": false,
        "row": 0,
        "width": 4
       },
       "report_default": {}
      }
     }
    },
    "id": "b18F5U-xpMIg"
   },
   "source": [
    "# Objective Fn"
   ]
  },
  {
   "cell_type": "code",
   "execution_count": 5,
   "metadata": {
    "colab": {},
    "colab_type": "code",
    "collapsed": true,
    "extensions": {
     "jupyter_dashboards": {
      "version": 1,
      "views": {
       "grid_default": {
        "hidden": true
       },
       "report_default": {}
      }
     }
    },
    "id": "Bv73MABIpMIh"
   },
   "outputs": [],
   "source": [
    "total_cost=0\n",
    "for i in range(3):\n",
    "    total_cost+=cp.sum(cp.multiply(dm,x[i]))\n",
    "\n",
    "obj=cp.Minimize(cp.sum(total_cost))"
   ]
  },
  {
   "cell_type": "code",
   "execution_count": 6,
   "metadata": {
    "colab": {
     "base_uri": "https://localhost:8080/",
     "height": 51
    },
    "colab_type": "code",
    "extensions": {
     "jupyter_dashboards": {
      "version": 1,
      "views": {
       "grid_default": {
        "hidden": true
       },
       "report_default": {}
      }
     }
    },
    "id": "ux879SmrpMIm",
    "outputId": "1d4fb973-be22-49d3-ea2f-5d9803b0d9bf"
   },
   "outputs": [
    {
     "name": "stdout",
     "output_type": "stream",
     "text": [
      "Wall time: 0 ns\n"
     ]
    }
   ],
   "source": [
    "Prb=cp.Problem(obj,constraints)\n",
    "#ECOS_BB, GLPK_MI\n",
    "%time\n",
    "Sol=Prb.solve(solver=cp.GLPK_MI,verbose=True)"
   ]
  },
  {
   "cell_type": "code",
   "execution_count": 7,
   "metadata": {
    "colab": {
     "base_uri": "https://localhost:8080/",
     "height": 34
    },
    "colab_type": "code",
    "extensions": {
     "jupyter_dashboards": {
      "version": 1,
      "views": {
       "grid_default": {
        "hidden": true
       },
       "report_default": {}
      }
     }
    },
    "id": "F3spB5WfpMIz",
    "outputId": "69539f0f-3383-45c0-b58e-7060500e8918"
   },
   "outputs": [
    {
     "data": {
      "text/plain": [
       "36.09"
      ]
     },
     "execution_count": 7,
     "metadata": {},
     "output_type": "execute_result"
    }
   ],
   "source": [
    "obj.value"
   ]
  },
  {
   "cell_type": "code",
   "execution_count": 8,
   "metadata": {
    "colab": {
     "base_uri": "https://localhost:8080/",
     "height": 272
    },
    "colab_type": "code",
    "extensions": {
     "jupyter_dashboards": {
      "version": 1,
      "views": {
       "grid_default": {
        "hidden": true
       },
       "report_default": {}
      }
     }
    },
    "id": "GReP9l_CpMI7",
    "outputId": "17f5dbc7-b4a5-4768-e830-11beb1503a3c",
    "scrolled": false
   },
   "outputs": [
    {
     "name": "stdout",
     "output_type": "stream",
     "text": [
      "[[0. 1. 0. 0. 0.]\n",
      " [0. 0. 0. 1. 0.]\n",
      " [0. 0. 0. 0. 1.]\n",
      " [0. 0. 1. 0. 0.]\n",
      " [0. 0. 0. 0. 0.]]\n",
      "[[0. 1. 0. 0. 0.]\n",
      " [0. 0. 0. 0. 1.]\n",
      " [0. 0. 0. 0. 0.]\n",
      " [0. 0. 0. 0. 0.]\n",
      " [0. 0. 0. 0. 0.]]\n",
      "[[0. 0. 1. 0. 0.]\n",
      " [0. 0. 0. 0. 0.]\n",
      " [0. 0. 0. 0. 1.]\n",
      " [0. 0. 0. 0. 0.]\n",
      " [0. 0. 0. 0. 0.]]\n"
     ]
    }
   ],
   "source": [
    "for i in range(3):\n",
    "    print(x[i].value) "
   ]
  },
  {
   "cell_type": "code",
   "execution_count": 9,
   "metadata": {
    "colab": {
     "base_uri": "https://localhost:8080/",
     "height": 34
    },
    "colab_type": "code",
    "extensions": {
     "jupyter_dashboards": {
      "version": 1,
      "views": {
       "grid_default": {
        "col": 4,
        "height": 4,
        "hidden": false,
        "row": 4,
        "width": 4
       },
       "report_default": {}
      }
     }
    },
    "id": "Yqdk7YpUpMJB",
    "outputId": "ea4be96d-53b1-4335-e4b7-173a4114aaf8"
   },
   "outputs": [
    {
     "name": "stdout",
     "output_type": "stream",
     "text": [
      "invetroy is balanced\n"
     ]
    }
   ],
   "source": [
    "final_invet=I.value[:,:3]+d.value-u\n",
    "if np.all(np.equal(I.value[:,1:],final_invet)):\n",
    "    print('invetroy is balanced')"
   ]
  },
  {
   "cell_type": "code",
   "execution_count": 10,
   "metadata": {
    "colab": {
     "base_uri": "https://localhost:8080/",
     "height": 68
    },
    "colab_type": "code",
    "extensions": {
     "jupyter_dashboards": {
      "version": 1,
      "views": {
       "grid_default": {
        "hidden": true
       },
       "report_default": {}
      }
     }
    },
    "id": "qEhvptkNpMJK",
    "outputId": "bff8f635-d3f4-4bce-8e6c-ad29533ee3db"
   },
   "outputs": [
    {
     "data": {
      "text/plain": [
       "array([[ 9.,  1., 32.,  9.],\n",
       "       [15., 43.,  6., 30.],\n",
       "       [ 8., 47., 27.,  8.]])"
      ]
     },
     "execution_count": 10,
     "metadata": {},
     "output_type": "execute_result"
    }
   ],
   "source": [
    "I.value\n"
   ]
  },
  {
   "cell_type": "code",
   "execution_count": 11,
   "metadata": {
    "colab": {
     "base_uri": "https://localhost:8080/",
     "height": 68
    },
    "colab_type": "code",
    "extensions": {
     "jupyter_dashboards": {
      "version": 1,
      "views": {
       "grid_default": {
        "hidden": true
       },
       "report_default": {}
      }
     }
    },
    "id": "jDDc24K-pMJR",
    "outputId": "806c96c8-ae41-4895-c6da-83c7b78b55b9"
   },
   "outputs": [
    {
     "data": {
      "text/plain": [
       "array([[16., 54.,  0.],\n",
       "       [67.,  0., 60.],\n",
       "       [60.,  0.,  0.]])"
      ]
     },
     "execution_count": 11,
     "metadata": {},
     "output_type": "execute_result"
    }
   ],
   "source": [
    "d.value"
   ]
  },
  {
   "cell_type": "code",
   "execution_count": 12,
   "metadata": {
    "colab": {
     "base_uri": "https://localhost:8080/",
     "height": 102
    },
    "colab_type": "code",
    "extensions": {
     "jupyter_dashboards": {
      "version": 1,
      "views": {
       "grid_default": {
        "hidden": true
       },
       "report_default": {}
      }
     }
    },
    "id": "TgQKc_cVpMJX",
    "outputId": "38e2c87d-f8e5-4154-8ecc-50a47ee43c2b"
   },
   "outputs": [
    {
     "data": {
      "text/plain": [
       "array([[0., 0., 0.],\n",
       "       [1., 1., 0.],\n",
       "       [1., 0., 1.],\n",
       "       [1., 0., 0.],\n",
       "       [1., 1., 1.]])"
      ]
     },
     "execution_count": 12,
     "metadata": {},
     "output_type": "execute_result"
    }
   ],
   "source": [
    "y.value"
   ]
  },
  {
   "cell_type": "code",
   "execution_count": 13,
   "metadata": {
    "colab": {
     "base_uri": "https://localhost:8080/",
     "height": 68
    },
    "colab_type": "code",
    "extensions": {
     "jupyter_dashboards": {
      "version": 1,
      "views": {
       "grid_default": {
        "col": 8,
        "height": 4,
        "hidden": false,
        "row": 4,
        "width": 4
       },
       "report_default": {}
      }
     }
    },
    "id": "R-M5V6SmpMJd",
    "outputId": "79894f54-3860-459d-97a4-c09b534294b5"
   },
   "outputs": [
    {
     "data": {
      "text/plain": [
       "array([[ 1., 32.,  9.],\n",
       "       [43.,  6., 30.],\n",
       "       [47., 27.,  8.]])"
      ]
     },
     "execution_count": 13,
     "metadata": {},
     "output_type": "execute_result"
    }
   ],
   "source": [
    "I.value[:,1:]"
   ]
  },
  {
   "cell_type": "code",
   "execution_count": 14,
   "metadata": {
    "colab": {
     "base_uri": "https://localhost:8080/",
     "height": 68
    },
    "colab_type": "code",
    "extensions": {
     "jupyter_dashboards": {
      "version": 1,
      "views": {
       "grid_default": {
        "col": 0,
        "height": 4,
        "hidden": false,
        "row": 8,
        "width": 4
       },
       "report_default": {}
      }
     }
    },
    "id": "X7tQBC5ypMJq",
    "outputId": "d8201f01-6b03-4208-a26e-d754dbc27f32"
   },
   "outputs": [
    {
     "data": {
      "text/plain": [
       "array([[ 1., 32.,  9.],\n",
       "       [43.,  6., 30.],\n",
       "       [47., 27.,  8.]])"
      ]
     },
     "execution_count": 14,
     "metadata": {},
     "output_type": "execute_result"
    }
   ],
   "source": [
    "I.value[:,:3]+d.value-u"
   ]
  },
  {
   "cell_type": "code",
   "execution_count": 23,
   "metadata": {
    "colab": {},
    "colab_type": "code",
    "extensions": {
     "jupyter_dashboards": {
      "version": 1,
      "views": {
       "grid_default": {
        "col": 4,
        "height": 4,
        "hidden": false,
        "row": 8,
        "width": 4
       },
       "report_default": {}
      }
     }
    },
    "id": "Dwm91MP9pMJz"
   },
   "outputs": [
    {
     "name": "stdout",
     "output_type": "stream",
     "text": [
      "CPXPARAM_Read_DataCheck                          1\n"
     ]
    },
    {
     "name": "stderr",
     "output_type": "stream",
     "text": [
      "Warning:  Non-integral bounds for integer variables rounded.\n"
     ]
    },
    {
     "name": "stdout",
     "output_type": "stream",
     "text": [
      "Tried aggregator 2 times.\n",
      "MIP Presolve eliminated 102 rows and 27 columns.\n",
      "MIP Presolve modified 18 coefficients.\n",
      "Aggregator did 3 substitutions.\n",
      "Reduced MIP has 75 rows, 93 columns, and 294 nonzeros.\n",
      "Reduced MIP has 69 binaries, 24 generals, 0 SOSs, and 0 indicators.\n",
      "Presolve time = 0.02 sec. (0.30 ticks)\n",
      "Found incumbent of value 133.900000 after 0.03 sec. (0.58 ticks)\n",
      "Probing changed sense of 3 constraints.\n",
      "Probing time = 0.00 sec. (0.08 ticks)\n",
      "Tried aggregator 1 time.\n",
      "MIP Presolve eliminated 21 rows and 24 columns.\n",
      "Reduced MIP has 54 rows, 69 columns, and 208 nonzeros.\n",
      "Reduced MIP has 48 binaries, 21 generals, 0 SOSs, and 0 indicators.\n",
      "Presolve time = 0.00 sec. (0.12 ticks)\n",
      "Probing time = 0.00 sec. (0.06 ticks)\n",
      "Tried aggregator 1 time.\n",
      "Reduced MIP has 54 rows, 69 columns, and 208 nonzeros.\n",
      "Reduced MIP has 48 binaries, 21 generals, 0 SOSs, and 0 indicators.\n",
      "Presolve time = 0.00 sec. (0.14 ticks)\n",
      "Probing time = 0.00 sec. (0.06 ticks)\n",
      "Clique table members: 50.\n",
      "MIP emphasis: balance optimality and feasibility.\n",
      "MIP search method: dynamic search.\n",
      "Parallel mode: deterministic, using up to 4 threads.\n",
      "Root relaxation solution time = 0.00 sec. (0.13 ticks)\n",
      "\n",
      "        Nodes                                         Cuts/\n",
      "   Node  Left     Objective  IInf  Best Integer    Best Bound    ItCnt     Gap\n",
      "\n",
      "*     0+    0                           76.0900       17.4300            77.09%\n",
      "      0     0       32.5809     6       76.0900       32.5809       13   57.18%\n",
      "*     0+    0                           36.0900       32.5809             9.72%\n",
      "      0     0        cutoff             36.0900                     16    0.00%\n",
      "Elapsed time = 0.09 sec. (4.01 ticks, tree = 0.01 MB, solutions = 3)\n",
      "\n",
      "Clique cuts applied:  1\n",
      "Implied bound cuts applied:  1\n",
      "Lift and project cuts applied:  1\n",
      "Gomory fractional cuts applied:  1\n",
      "\n",
      "Root node processing (before b&c):\n",
      "  Real time             =    0.11 sec. (4.01 ticks)\n",
      "Parallel b&c, 4 threads:\n",
      "  Real time             =    0.00 sec. (0.00 ticks)\n",
      "  Sync time (average)   =    0.00 sec.\n",
      "  Wait time (average)   =    0.00 sec.\n",
      "                          ------------\n",
      "Total (root+branch&cut) =    0.11 sec. (4.01 ticks)\n"
     ]
    },
    {
     "name": "stderr",
     "output_type": "stream",
     "text": [
      "CPLEX Error  1217: No solution exists.\n"
     ]
    },
    {
     "data": {
      "text/plain": [
       "36.09"
      ]
     },
     "execution_count": 23,
     "metadata": {},
     "output_type": "execute_result"
    }
   ],
   "source": [
    "Prb.solve(solver=cp.CPLEX,verbose=True)"
   ]
  },
  {
   "cell_type": "code",
   "execution_count": 24,
   "metadata": {
    "colab": {},
    "colab_type": "code",
    "extensions": {
     "jupyter_dashboards": {
      "version": 1,
      "views": {
       "grid_default": {
        "col": 8,
        "height": 12,
        "hidden": false,
        "row": 8,
        "width": 4
       },
       "report_default": {}
      }
     }
    },
    "id": "9ARHiLnupMJ5"
   },
   "outputs": [
    {
     "data": {
      "text/plain": [
       "{0: Variable((5, 5), boolean=True),\n",
       " 1: Variable((5, 5), boolean=True),\n",
       " 2: Variable((5, 5), boolean=True)}"
      ]
     },
     "execution_count": 24,
     "metadata": {},
     "output_type": "execute_result"
    }
   ],
   "source": []
  },
  {
   "cell_type": "code",
   "execution_count": 15,
   "metadata": {
    "colab": {
     "base_uri": "https://localhost:8080/",
     "height": 34
    },
    "colab_type": "code",
    "extensions": {
     "jupyter_dashboards": {
      "version": 1,
      "views": {
       "grid_default": {
        "col": 0,
        "height": 4,
        "hidden": false,
        "row": 12,
        "width": 4
       },
       "report_default": {}
      }
     }
    },
    "id": "UaKYn-tLpMTY",
    "outputId": "0edd8872-0e55-496c-d1cb-587f753267b2"
   },
   "outputs": [
    {
     "data": {
      "text/plain": [
       "36.09"
      ]
     },
     "execution_count": 15,
     "metadata": {},
     "output_type": "execute_result"
    }
   ],
   "source": [
    "Sol"
   ]
  },
  {
   "cell_type": "code",
   "execution_count": 16,
   "metadata": {
    "colab": {
     "base_uri": "https://localhost:8080/",
     "height": 68
    },
    "colab_type": "code",
    "extensions": {
     "jupyter_dashboards": {
      "version": 1,
      "views": {
       "grid_default": {
        "col": 4,
        "height": 4,
        "hidden": false,
        "row": 12,
        "width": 4
       },
       "report_default": {}
      }
     }
    },
    "id": "piFVLHQipMTe",
    "outputId": "b101119c-1607-4a38-8d3d-a1114437a5bc"
   },
   "outputs": [
    {
     "data": {
      "text/plain": [
       "array([[ 9.,  1., 32.,  9.],\n",
       "       [15., 43.,  6., 30.],\n",
       "       [ 8., 47., 27.,  8.]])"
      ]
     },
     "execution_count": 16,
     "metadata": {},
     "output_type": "execute_result"
    }
   ],
   "source": [
    "I.value"
   ]
  },
  {
   "cell_type": "code",
   "execution_count": 17,
   "metadata": {
    "colab": {
     "base_uri": "https://localhost:8080/",
     "height": 68
    },
    "colab_type": "code",
    "extensions": {
     "jupyter_dashboards": {
      "version": 1,
      "views": {
       "grid_default": {
        "hidden": true
       },
       "report_default": {}
      }
     }
    },
    "id": "OY0BxC2ipMTq",
    "outputId": "fdde6b22-3371-47fc-9743-1f27f61dbb51"
   },
   "outputs": [
    {
     "data": {
      "text/plain": [
       "array([[16., 54.,  0.],\n",
       "       [67.,  0., 60.],\n",
       "       [60.,  0.,  0.]])"
      ]
     },
     "execution_count": 17,
     "metadata": {},
     "output_type": "execute_result"
    }
   ],
   "source": [
    "d.value"
   ]
  },
  {
   "cell_type": "code",
   "execution_count": 18,
   "metadata": {
    "colab": {
     "base_uri": "https://localhost:8080/",
     "height": 102
    },
    "colab_type": "code",
    "extensions": {
     "jupyter_dashboards": {
      "version": 1,
      "views": {
       "grid_default": {
        "hidden": true
       },
       "report_default": {}
      }
     }
    },
    "id": "LgoLjB9RpMTx",
    "outputId": "903f96ca-9e73-4605-9be3-152d3cae7c19"
   },
   "outputs": [
    {
     "data": {
      "text/plain": [
       "array([[0., 0., 0.],\n",
       "       [1., 1., 0.],\n",
       "       [1., 0., 1.],\n",
       "       [1., 0., 0.],\n",
       "       [1., 1., 1.]])"
      ]
     },
     "execution_count": 18,
     "metadata": {},
     "output_type": "execute_result"
    }
   ],
   "source": [
    "y.value"
   ]
  },
  {
   "cell_type": "code",
   "execution_count": 19,
   "metadata": {
    "colab": {
     "base_uri": "https://localhost:8080/",
     "height": 102
    },
    "colab_type": "code",
    "extensions": {
     "jupyter_dashboards": {
      "version": 1,
      "views": {
       "grid_default": {
        "hidden": true
       },
       "report_default": {}
      }
     }
    },
    "id": "6wIdp-lwpMT3",
    "outputId": "8a6b16ec-0a01-45d6-b67d-bae858657a6d"
   },
   "outputs": [
    {
     "data": {
      "text/plain": [
       "array([[0., 0., 0.],\n",
       "       [0., 0., 4.],\n",
       "       [2., 0., 0.],\n",
       "       [1., 0., 0.],\n",
       "       [3., 1., 1.]])"
      ]
     },
     "execution_count": 19,
     "metadata": {},
     "output_type": "execute_result"
    }
   ],
   "source": [
    "v.value"
   ]
  },
  {
   "cell_type": "code",
   "execution_count": 20,
   "metadata": {
    "colab": {
     "base_uri": "https://localhost:8080/",
     "height": 68
    },
    "colab_type": "code",
    "extensions": {
     "jupyter_dashboards": {
      "version": 1,
      "views": {
       "grid_default": {
        "hidden": true
       },
       "report_default": {}
      }
     }
    },
    "id": "-VrhGAwlpMT-",
    "outputId": "3b580664-2e89-4326-f9cc-7d8daf38fb25"
   },
   "outputs": [
    {
     "data": {
      "text/plain": [
       "array([[16., 54.,  0.],\n",
       "       [67.,  0., 60.],\n",
       "       [60.,  0.,  0.]])"
      ]
     },
     "execution_count": 20,
     "metadata": {},
     "output_type": "execute_result"
    }
   ],
   "source": [
    "d.value"
   ]
  },
  {
   "cell_type": "code",
   "execution_count": 21,
   "metadata": {
    "colab": {
     "base_uri": "https://localhost:8080/",
     "height": 68
    },
    "colab_type": "code",
    "extensions": {
     "jupyter_dashboards": {
      "version": 1,
      "views": {
       "grid_default": {
        "col": 0,
        "height": 4,
        "hidden": false,
        "row": 16,
        "width": 4
       },
       "report_default": {}
      }
     }
    },
    "id": "Omv7m_ZtpMUE",
    "outputId": "d6a4cb91-a46c-4f76-f7db-f7cf5336c922"
   },
   "outputs": [
    {
     "data": {
      "text/plain": [
       "array([[24, 23, 23],\n",
       "       [39, 37, 36],\n",
       "       [21, 20, 19]])"
      ]
     },
     "execution_count": 21,
     "metadata": {},
     "output_type": "execute_result"
    }
   ],
   "source": [
    "u"
   ]
  },
  {
   "cell_type": "code",
   "execution_count": 22,
   "metadata": {
    "colab": {},
    "colab_type": "code",
    "collapsed": true,
    "extensions": {
     "jupyter_dashboards": {
      "version": 1,
      "views": {
       "grid_default": {
        "hidden": true
       },
       "report_default": {}
      }
     }
    },
    "id": "DQQIExWWpMUP"
   },
   "outputs": [],
   "source": [
    "Prb.solve?"
   ]
  },
  {
   "cell_type": "code",
   "execution_count": null,
   "metadata": {
    "colab": {},
    "colab_type": "code",
    "collapsed": true,
    "id": "ywkOtwlPpMUX"
   },
   "outputs": [],
   "source": []
  }
 ],
 "metadata": {
  "anaconda-cloud": {},
  "colab": {
   "name": "inventory routing .ipynb",
   "provenance": [],
   "version": "0.3.2"
  },
  "kernelspec": {
   "display_name": "Python [default]",
   "language": "python",
   "name": "python3"
  },
  "language_info": {
   "codemirror_mode": {
    "name": "ipython",
    "version": 3
   },
   "file_extension": ".py",
   "mimetype": "text/x-python",
   "name": "python",
   "nbconvert_exporter": "python",
   "pygments_lexer": "ipython3",
   "version": "3.5.6"
  },
  "toc": {
   "base_numbering": 1,
   "nav_menu": {},
   "number_sections": false,
   "sideBar": false,
   "skip_h1_title": false,
   "title_cell": "Table of Contents",
   "title_sidebar": "Contents",
   "toc_cell": false,
   "toc_position": {},
   "toc_section_display": false,
   "toc_window_display": false
  }
 },
 "nbformat": 4,
 "nbformat_minor": 1
}
